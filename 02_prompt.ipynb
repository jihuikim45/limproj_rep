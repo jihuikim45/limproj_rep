{
 "cells": [
  {
   "cell_type": "code",
   "execution_count": 1,
   "id": "240de589",
   "metadata": {},
   "outputs": [
    {
     "name": "stdout",
     "output_type": "stream",
     "text": [
      "API Key configured: True\n"
     ]
    }
   ],
   "source": [
    "from dotenv import load_dotenv\n",
    "import os\n",
    "\n",
    "# .env 파일에서 환경 변수를 불러옵니다.\n",
    "load_dotenv()\n",
    "\n",
    "# 환경 변수 읽기\n",
    "openai_api_key = os.getenv(\"OPENAI_API_KEY\")\n",
    "\n",
    "\n",
    "# OpenAI 라이브러리가 환경 변수에서 키를 읽을 수 있도록 설정\n",
    "if openai_api_key:\n",
    "    os.environ[\"OPENAI_API_KEY\"] = openai_api_key\n",
    "\n",
    "print(\"API Key configured:\", \"OPENAI_API_KEY\" in os.environ)"
   ]
  },
  {
   "cell_type": "code",
   "execution_count": 2,
   "id": "971b4c20",
   "metadata": {},
   "outputs": [
    {
     "name": "stdout",
     "output_type": "stream",
     "text": [
      "파이썬(Python)은 1991년에 귀도 반 로썸(Guido van Rossum)이 개발한 고급 프로그래밍 언어로, 간결하고 읽기 쉬운 문법 덕분에 많은 개발자와 코딩 입문자들에게 사랑받고 있습니다. 다음은 파이썬에 대한 주요 특징과 장점입니다.\n",
      "\n",
      "### 주요 특징\n",
      "\n",
      "1. **간결한 문법**: 파이썬은 다른 프로그래밍 언어에 비해 훨씬 간단하고 명확한 문법을 가지고 있어, 배우기 쉽고 코드 작성이 용이합니다.\n",
      "\n",
      "2. **객체 지향 프로그래밍**: 파이썬은 객체 지향 프로그래밍을 지원하여, 개발자들이 코드를 재사용하고 구조적으로 구성할 수 있도록 도와줍니다.\n",
      "\n",
      "3. **다양한 라이브러리**: 파이썬은 데이터 분석, 웹 개발, 인공지능, 머신러닝, 과학 계산 등 다양한 분야에서 사용할 수 있는 풍부한 라이브러리와 프레임워크(예: NumPy, Pandas, Django, Flask, TensorFlow 등)를 제공합니다.\n",
      "\n",
      "4. **크로스 플랫폼**: 파이썬은 Windows, macOS, Linux 등 다양한 운영 체제에서 실행될 수 있습니다.\n",
      "\n",
      "5. **상호작용형 인터프리터**: 파이썬은 상호작용형 셸을 제공하여, 코드를 한 줄씩 실행해보면서 테스트하고 학습할 수 있습니다. \n",
      "\n",
      "### 사용 사례\n",
      "\n",
      "- **웹 개발**: Django, Flask와 같은 프레임워크를 사용하여 웹 애플리케이션을 개발.\n",
      "- **데이터 과학**: 데이터 분석, 시각화 및 머신러닝에 주로 사용.\n",
      "- **자동화 스크립트**: 시스템 관리 및 반복적인 작업을 자동화하기 위한 스크립트를 작성.\n",
      "- **게임 개발**: Pygame과 같은 라이브러리를 사용하여 게임 개발.\n",
      "- **인공지능 및 머신러닝**: TensorFlow, PyTorch와 같은 라이브러리를 이용한 AI 및 ML 모델 개발.\n",
      "\n",
      "### 장점\n",
      "\n",
      "- **쉬운 배우기**: 치우치지 않은 종합적인 문법 덕분에 초보자도 접근하기 쉬움.\n",
      "- **강력한 커뮤니티**: 방대한 사용자 커뮤니티가 있어 자료와 도움을 구하기 쉬움.\n",
      "- **유연성**: 다양한 프로그래밍 패러다임(객체지향, 함수형 등)을 지원함.\n",
      "\n",
      "파이썬은 초보자부터 전문가까지 모두에게 유용한 언어이며, 다양한 분야에서 활용되고 있습니다. 궁금한 점이 더 있다면 언제든지 질문해 주세요!\n"
     ]
    }
   ],
   "source": [
    "from openai import OpenAI\n",
    "\n",
    "client = OpenAI()\n",
    "\n",
    "response = client.chat.completions.create(\n",
    "    model=\"gpt-4o-mini\",  # 모델 선택\n",
    "    messages=[\n",
    "        {\"role\": \"user\", \"content\": \"파이썬에 대해 알려줘\"}\n",
    "    ]\n",
    ")\n",
    "\n",
    "print(response.choices[0].message.content)"
   ]
  },
  {
   "cell_type": "code",
   "execution_count": 3,
   "id": "603e7f08",
   "metadata": {},
   "outputs": [
    {
     "data": {
      "text/plain": [
       "'파이썬(Python)은 1991년에 귀도 반 로썸(Guido van Rossum)이 개발한 고급 프로그래밍 언어로, 간결하고 읽기 쉬운 문법 덕분에 많은 개발자와 코딩 입문자들에게 사랑받고 있습니다. 다음은 파이썬에 대한 주요 특징과 장점입니다.\\n\\n### 주요 특징\\n\\n1. **간결한 문법**: 파이썬은 다른 프로그래밍 언어에 비해 훨씬 간단하고 명확한 문법을 가지고 있어, 배우기 쉽고 코드 작성이 용이합니다.\\n\\n2. **객체 지향 프로그래밍**: 파이썬은 객체 지향 프로그래밍을 지원하여, 개발자들이 코드를 재사용하고 구조적으로 구성할 수 있도록 도와줍니다.\\n\\n3. **다양한 라이브러리**: 파이썬은 데이터 분석, 웹 개발, 인공지능, 머신러닝, 과학 계산 등 다양한 분야에서 사용할 수 있는 풍부한 라이브러리와 프레임워크(예: NumPy, Pandas, Django, Flask, TensorFlow 등)를 제공합니다.\\n\\n4. **크로스 플랫폼**: 파이썬은 Windows, macOS, Linux 등 다양한 운영 체제에서 실행될 수 있습니다.\\n\\n5. **상호작용형 인터프리터**: 파이썬은 상호작용형 셸을 제공하여, 코드를 한 줄씩 실행해보면서 테스트하고 학습할 수 있습니다. \\n\\n### 사용 사례\\n\\n- **웹 개발**: Django, Flask와 같은 프레임워크를 사용하여 웹 애플리케이션을 개발.\\n- **데이터 과학**: 데이터 분석, 시각화 및 머신러닝에 주로 사용.\\n- **자동화 스크립트**: 시스템 관리 및 반복적인 작업을 자동화하기 위한 스크립트를 작성.\\n- **게임 개발**: Pygame과 같은 라이브러리를 사용하여 게임 개발.\\n- **인공지능 및 머신러닝**: TensorFlow, PyTorch와 같은 라이브러리를 이용한 AI 및 ML 모델 개발.\\n\\n### 장점\\n\\n- **쉬운 배우기**: 치우치지 않은 종합적인 문법 덕분에 초보자도 접근하기 쉬움.\\n- **강력한 커뮤니티**: 방대한 사용자 커뮤니티가 있어 자료와 도움을 구하기 쉬움.\\n- **유연성**: 다양한 프로그래밍 패러다임(객체지향, 함수형 등)을 지원함.\\n\\n파이썬은 초보자부터 전문가까지 모두에게 유용한 언어이며, 다양한 분야에서 활용되고 있습니다. 궁금한 점이 더 있다면 언제든지 질문해 주세요!'"
      ]
     },
     "execution_count": 3,
     "metadata": {},
     "output_type": "execute_result"
    }
   ],
   "source": [
    "response.choices[0].message.content"
   ]
  },
  {
   "cell_type": "code",
   "execution_count": 4,
   "id": "5711bc98",
   "metadata": {},
   "outputs": [
    {
     "name": "stdout",
     "output_type": "stream",
     "text": [
      "chatGPT 답변 안녕하세요! 현재 날씨 정보를 제공할 수는 없지만, 날씨를 확인하고 싶으시면 기상청 웹사이트나 날씨 앱을 통해 확인하실 수 있습니다. 도움이 필요하시면 다른 질문도 해주세요!\n"
     ]
    }
   ],
   "source": [
    "message = {\"role\":\"user\", \"content\":\"안녕하세요, 오늘 날씨는 어떤가요?\"}\n",
    "response = client.chat.completions.create(\n",
    "    model=\"gpt-4o-mini\",\n",
    "    messages=[message]\n",
    ")\n",
    "assistant_reply = response.choices[0].message.content\n",
    "print(\"chatGPT 답변\", assistant_reply)"
   ]
  },
  {
   "cell_type": "markdown",
   "id": "e80ba9fd",
   "metadata": {},
   "source": [
    "# 출력 형식 지정"
   ]
  },
  {
   "cell_type": "code",
   "execution_count": 5,
   "id": "049a3276",
   "metadata": {},
   "outputs": [
    {
     "name": "stdout",
     "output_type": "stream",
     "text": [
      "chatGPT 답변 {\n",
      "  \"weather\": \"맑음\",\n",
      "  \"temperature\": \"20°C\"\n",
      "} \n",
      "\n",
      "\n",
      "\n",
      "\n"
     ]
    }
   ],
   "source": [
    "message = {\"role\":\"user\", \"content\":\"오늘 서울 날씨를 json 형태로 제공해. 키는 weather, temperature 로 설정해\"}\n",
    "response = client.chat.completions.create(\n",
    "    model=\"gpt-4o-mini\",\n",
    "    messages=[message],\n",
    "    response_format = {'type':'json_object'}\n",
    ")\n",
    "assistant_reply = response.choices[0].message.content\n",
    "print(\"chatGPT 답변\", assistant_reply)"
   ]
  },
  {
   "cell_type": "code",
   "execution_count": 6,
   "id": "2788a86e",
   "metadata": {},
   "outputs": [
    {
     "data": {
      "text/plain": [
       "dict_keys(['weather', 'temperature'])"
      ]
     },
     "execution_count": 6,
     "metadata": {},
     "output_type": "execute_result"
    }
   ],
   "source": [
    "import json\n",
    "data = json.loads(assistant_reply)\n",
    "data.keys()"
   ]
  },
  {
   "cell_type": "code",
   "execution_count": 7,
   "id": "f67c43a6",
   "metadata": {},
   "outputs": [
    {
     "name": "stdout",
     "output_type": "stream",
     "text": [
      "ChatGPT 답변: {\n",
      "  \"서울\": {\n",
      "    \"weather\": \"맑음\",\n",
      "    \"temperature\": \"20°C\"\n",
      "  },\n",
      "  \"부산\": {\n",
      "    \"weather\": \"흐림\",\n",
      "    \"temperature\": \"22°C\"\n",
      "  },\n",
      "  \"대전\": {\n",
      "    \"weather\": \"비\",\n",
      "    \"temperature\": \"19°C\"\n",
      "  },\n",
      "  \"대구\": {\n",
      "    \"weather\": \"맑음\",\n",
      "    \"temperature\": \"21°C\"\n",
      "  }\n",
      "}\n"
     ]
    }
   ],
   "source": [
    "# 서울, 부산 날씨 정보 받아서 json 으로 추출\n",
    "message = {'role':'user', 'content':'오늘 서울과 부산, 대전, 대구의 날씨를 json형태로 제공해줘. 키는 weather, temperature로 설정해서.'}\n",
    "\n",
    "response = client.chat.completions.create(\n",
    "    model = 'gpt-4o-mini',\n",
    "    messages = [message],\n",
    "    response_format={'type':'json_object'}\n",
    ")\n",
    "assistant_reply = response.choices[0].message.content\n",
    "print('ChatGPT 답변:', assistant_reply)\n"
   ]
  },
  {
   "cell_type": "markdown",
   "id": "7c0afe2d",
   "metadata": {},
   "source": [
    "# CoT 프롬프트\n"
   ]
  },
  {
   "cell_type": "code",
   "execution_count": 9,
   "id": "83075754",
   "metadata": {},
   "outputs": [
    {
     "name": "stdout",
     "output_type": "stream",
     "text": [
      "CoT 적용전: 철수는 처음에 사과 10개를 가지고 있었습니다. 그 중 3개를 먹었으므로 남은 사과는 10 - 3 = 7개입니다. 이후 5개를 더 구입했으므로 현재 가지고 있는 사과는 7 + 5 = 12개입니다. \n",
      "\n",
      "따라서 철수가 현재 가지고 있는 사과는 12개입니다.\n"
     ]
    }
   ],
   "source": [
    "question = \"철수는 사과 10개를 가지고 있었는데, 그 중 3개를 먹은 후 5개를 더 구입했습니다. 철수가 현재 가지고 있는 사과는 몇 개일까요?\"\n",
    "\n",
    "response = client.chat.completions.create(\n",
    "    messages=[{\"role\": \"user\", \"content\": question}],\n",
    "    model=\"gpt-4o-mini\",\n",
    "    temperature=0\n",
    ")\n",
    "\n",
    "print(\"CoT 적용전:\", response.choices[0].message.content)\n"
   ]
  },
  {
   "cell_type": "code",
   "execution_count": 10,
   "id": "5abaac01",
   "metadata": {},
   "outputs": [
    {
     "name": "stdout",
     "output_type": "stream",
     "text": [
      "CoT 적용후 :  철수는 처음에 사과 10개를 가지고 있었습니다. 그 중 3개를 먹었으므로 남은 사과는 10 - 3 = 7개입니다. 이후 5개를 더 구입했으므로 현재 가지고 있는 사과는 7 + 5 = 12개입니다. \n",
      "\n",
      "따라서 철수가 현재 가지고 있는 사과는 12개입니다.\n"
     ]
    }
   ],
   "source": [
    "cot_prompt = '(생각을 단계별로 진행해)\\n'+question\n",
    "response = client.chat.completions.create(\n",
    "messages = [{\"role\":\"user\", \"content\":question}],\n",
    "model='gpt-4o-mini',\n",
    "temperature=0\n",
    ")\n",
    "print('CoT 적용후 : ',response.choices[0].message.content)"
   ]
  },
  {
   "cell_type": "code",
   "execution_count": 11,
   "id": "ca343d00",
   "metadata": {},
   "outputs": [
    {
     "name": "stdout",
     "output_type": "stream",
     "text": [
      "CoT 적용전: 주어진 문제를 단계별로 풀어보겠습니다.\n",
      "\n",
      "1. **문제 이해하기**: 어떤 수를 \\( x \\)라고 할 때, 이 수를 3배한 결과에 4를 더하면 19가 된다는 식을 세울 수 있습니다. 이를 수식으로 표현하면 다음과 같습니다.\n",
      "   \\[\n",
      "   3x + 4 = 19\n",
      "   \\]\n",
      "\n",
      "2. **식 정리하기**: 이제 이 식을 풀어보겠습니다. 먼저, 양변에서 4를 빼줍니다.\n",
      "   \\[\n",
      "   3x + 4 - 4 = 19 - 4\n",
      "   \\]\n",
      "   \\[\n",
      "   3x = 15\n",
      "   \\]\n",
      "\n",
      "3. **x 구하기**: 이제 양변을 3으로 나누어 \\( x \\)의 값을 구합니다.\n",
      "   \\[\n",
      "   x = \\frac{15}{3}\n",
      "   \\]\n",
      "   \\[\n",
      "   x = 5\n",
      "   \\]\n",
      "\n",
      "4. **결과 확인하기**: 구한 \\( x \\)의 값이 맞는지 확인해보겠습니다. \\( x = 5 \\)일 때, 3배한 결과에 4를 더하면:\n",
      "   \\[\n",
      "   3 \\times 5 + 4 = 15 + 4 = 19\n",
      "   \\]\n",
      "   맞습니다.\n",
      "\n",
      "따라서, 그 수는 **5**입니다.\n"
     ]
    }
   ],
   "source": [
    "question = \"어떤 수를 3배한 결과에 4를 더하면 19가 됩니다. 그 수는 무엇일까요? 단계별로 풀어보세요.\"\n",
    "\n",
    "response = client.chat.completions.create(\n",
    "    messages=[{\"role\": \"user\", \"content\": question}],\n",
    "    model=\"gpt-4o-mini\",\n",
    "    temperature=0\n",
    ")\n",
    "\n",
    "print(\"CoT 적용전:\", response.choices[0].message.content)"
   ]
  },
  {
   "cell_type": "markdown",
   "id": "a91056ed",
   "metadata": {},
   "source": [
    "# Self consistency 기법\n"
   ]
  },
  {
   "cell_type": "code",
   "execution_count": 12,
   "id": "60389966",
   "metadata": {},
   "outputs": [
    {
     "name": "stdout",
     "output_type": "stream",
     "text": [
      "응답 1:주어진 문제를 단계별로 풀어보겠습니다.\n",
      "\n",
      "1. 어떤 수를 x라고 합시다.\n",
      "2. 문제에 따르면, 그 수를 3배한 결과에 4를 더한 것이 19와 같습니다. 이를 수식으로 표현하면 다음과 같습니다:\n",
      "   \\[\n",
      "   3x + 4 = 19\n",
      "   \\]\n",
      "\n",
      "3. 이제 이 수식을 풀어보겠습니다. 우선 양변에서 4를 빼줍니다:\n",
      "   \\[\n",
      "   3x + 4 - 4 = 19 - 4\n",
      "   \\]\n",
      "   \\[\n",
      "   3x = 15\n",
      "   \\]\n",
      "\n",
      "4. 다음으로, 양변을 3으로 나눕니다:\n",
      "   \\[\n",
      "   \\frac{3x}{3} = \\frac{15}{3}\n",
      "   \\]\n",
      "   \\[\n",
      "   x = 5\n",
      "   \\]\n",
      "\n",
      "결론적으로, 그 수는 **5**입니다.\n",
      "응답 2:어떤 수를 \\( x \\)라고 합시다. 문제에서 주어진 조건은 \"그 수를 3배한 결과에 4를 더하면 19가 된다\"입니다. 이를 수식으로 표현하면 다음과 같습니다:\n",
      "\n",
      "\\[\n",
      "3x + 4 = 19\n",
      "\\]\n",
      "\n",
      "이제 이 식을 풀어보겠습니다.\n",
      "\n",
      "1. 먼저, 양변에서 4를 뺍니다:\n",
      "\n",
      "\\[\n",
      "3x + 4 - 4 = 19 - 4\n",
      "\\]\n",
      "\n",
      "이로 인해 다음과 같은 식이 됩니다:\n",
      "\n",
      "\\[\n",
      "3x = 15\n",
      "\\]\n",
      "\n",
      "2. 이제, 양변을 3으로 나누어 \\( x \\)를 구합니다:\n",
      "\n",
      "\\[\n",
      "x = \\frac{15}{3}\n",
      "\\]\n",
      "\n",
      "이렇게 하면:\n",
      "\n",
      "\\[\n",
      "x = 5\n",
      "\\]\n",
      "\n",
      "따라서, 질문에서 찾고자 하는 수는 \\( 5 \\)입니다.\n",
      "\n",
      "**정답: 5**\n",
      "응답 3:문제를 단계별로 풀어보겠습니다.\n",
      "\n",
      "1. **문제를 수식으로 표현하기**:\n",
      "   어떤 수를 \\( x \\)라고 하면, 문제의 조건을 수식으로 나타내면 다음과 같습니다:\n",
      "   \\[\n",
      "   3x + 4 = 19\n",
      "   \\]\n",
      "\n",
      "2. **양변에서 4를 빼기**:\n",
      "   이제, 수식의 양변에서 4를 빼줍니다:\n",
      "   \\[\n",
      "   3x + 4 - 4 = 19 - 4\n",
      "   \\]\n",
      "   그러면,\n",
      "   \\[\n",
      "   3x = 15\n",
      "   \\]\n",
      "\n",
      "3. **양변을 3으로 나누기**:\n",
      "   이제, \\( 3x \\)의 양변을 3으로 나누어 \\( x \\)를 구합니다:\n",
      "   \\[\n",
      "   x = \\frac{15}{3}\n",
      "   \\]\n",
      "   결과적으로,\n",
      "   \\[\n",
      "   x = 5\n",
      "   \\]\n",
      "\n",
      "4. **결과 확인**:\n",
      "   \\( x = 5 \\)인 경우, 문제의 조건이 성립하는지 확인해보겠습니다:\n",
      "   \\[\n",
      "   3 \\times 5 + 4 = 15 + 4 = 19\n",
      "   \\]\n",
      "   조건을 만족합니다.\n",
      "\n",
      "따라서, 그 수는 \\( 5 \\)입니다.\n",
      "응답 4:주어진 문제를 수학적으로 풀어보겠습니다.\n",
      "\n",
      "1. **문제를 수식으로 표현하기**:\n",
      "   어떤 수를 \\( x \\)라고 할 때, 문제의 조건을 수식으로 표현할 수 있습니다.\n",
      "   \\[\n",
      "   3x + 4 = 19\n",
      "   \\]\n",
      "\n",
      "2. **양변에서 4를 빼기**:\n",
      "   3배한 결과에 4를 더한 것이 19이므로, 4를 양변에서 빼줍니다.\n",
      "   \\[\n",
      "   3x + 4 - 4 = 19 - 4\n",
      "   \\]\n",
      "   이 것을 정리하면:\n",
      "   \\[\n",
      "   3x = 15\n",
      "   \\]\n",
      "\n",
      "3. **양변을 3으로 나누기**:\n",
      "   이제 \\( 3x = 15 \\)에서 \\( x \\)를 구하기 위해 양변을 3으로 나눕니다.\n",
      "   \\[\n",
      "   x = \\frac{15}{3}\n",
      "   \\]\n",
      "   이 계산을 수행하면:\n",
      "   \\[\n",
      "   x = 5\n",
      "   \\]\n",
      "\n",
      "4. **결과 확인하기**:\n",
      "   구한 \\( x \\)값을 원래 식에 대입하여 확인해보겠습니다:\n",
      "   \\[\n",
      "   3(5) + 4 = 15 + 4 = 19\n",
      "   \\]\n",
      "   맞습니다.\n",
      "\n",
      "따라서, 그 수는 **5**입니다.\n",
      "응답 5:문제를 단계별로 풀어보겠습니다.\n",
      "\n",
      "1. **문제 이해하기**: 어떤 수를 \\( x \\)라고 할 때, 그 수를 3배한 결과에 4를 더하면 19가 된다는 뜻입니다. 이를 식으로 표현할 수 있습니다.\n",
      "\n",
      "   \\[\n",
      "   3x + 4 = 19\n",
      "   \\]\n",
      "\n",
      "2. **방정식 정리하기**: 이 식에서 \\( x \\)를 구하기 위해, 먼저 양쪽에서 4를 빼줍니다.\n",
      "\n",
      "   \\[\n",
      "   3x + 4 - 4 = 19 - 4\n",
      "   \\]\n",
      "\n",
      "   \\[\n",
      "   3x = 15\n",
      "   \\]\n",
      "\n",
      "3. **\\( x \\) 값 구하기**: 이제 \\( x \\)를 구하기 위해 양쪽을 3으로 나눕니다.\n",
      "\n",
      "   \\[\n",
      "   x = \\frac{15}{3}\n",
      "   \\]\n",
      "\n",
      "   \\[\n",
      "   x = 5\n",
      "   \\]\n",
      "\n",
      "4. **답 확인하기**: 원래의 식에 \\( x = 5 \\)를 대입하여 확인합니다.\n",
      "\n",
      "   \\[\n",
      "   3(5) + 4 = 15 + 4 = 19\n",
      "   \\]\n",
      "\n",
      "   결과가 19가 맞으므로, 계산이 올바른지 확인했습니다.\n",
      "\n",
      "결론적으로, 그 수는 \\( \\boxed{5} \\)입니다.\n"
     ]
    }
   ],
   "source": [
    "question = \"어떤 수를 3배한 결과에 4를 더하면 19가 됩니다. 그 수는 무엇일까요? 단계별로 풀어보세요.\"\n",
    "message=[{'role':'user', 'content':question}]\n",
    "answers = []\n",
    "\n",
    "for i in range(5):\n",
    "    response = client.chat.completions.create(\n",
    "        messages=message,\n",
    "        model=\"gpt-4o-mini\",\n",
    "    temperature=1.0\n",
    "    )\n",
    "    answer = response.choices[0].message.content.strip()\n",
    "    answers.append(answer)\n",
    "    print(f'응답 {i+1}:{answer}')\n",
    "    "
   ]
  },
  {
   "cell_type": "code",
   "execution_count": 15,
   "id": "d81323b5",
   "metadata": {},
   "outputs": [
    {
     "name": "stdout",
     "output_type": "stream",
     "text": [
      "최종 답 : {final_ans}\n"
     ]
    }
   ],
   "source": [
    "final_answer = [ans.split()[-1]for ans in answers]\n",
    "import collections\n",
    "counter = collections.Counter(final_answer)\n",
    "final_ans =  counter.most_common(1)[0][0]\n",
    "print('최종 답 : {final_ans}')"
   ]
  },
  {
   "cell_type": "markdown",
   "id": "bc04bc97",
   "metadata": {},
   "source": [
    "# Reflexion (자기 피드백 반복 프롬프트 설계)"
   ]
  },
  {
   "cell_type": "code",
   "execution_count": 16,
   "id": "892d93b6",
   "metadata": {},
   "outputs": [
    {
     "name": "stdout",
     "output_type": "stream",
     "text": [
      "정답입니다.\n"
     ]
    }
   ],
   "source": [
    "question = \"7의 2승에 5를 곱한 값은 무엇인가?\"\n",
    "\n",
    "response1 = client.chat.completions.create(\n",
    "    messages=[{'role':'user', 'content':question}],\n",
    "    model=\"gpt-4o-mini\",\n",
    "    temperature=0\n",
    ")\n",
    "\n",
    "answer = response1.choices[0].message.content.strip()\n",
    "\n",
    "correct_answer = 245\n",
    "if str(correct_answer) in answer:\n",
    "    feedback = '정답입니다.'\n",
    "    need_retry = False\n",
    "else:\n",
    "    feedback = '틀렸어요. 힌트는 7의 제곱값을 정확히 구한 다음 곱하세요.'\n",
    "    need_retry = True\n",
    "\n",
    "print(feedback)\n"
   ]
  },
  {
   "cell_type": "code",
   "execution_count": 19,
   "id": "7ac751ad",
   "metadata": {},
   "outputs": [
    {
     "name": "stdout",
     "output_type": "stream",
     "text": [
      "정답입니다.\n"
     ]
    }
   ],
   "source": [
    "question = \"7의 2승에 5를 곱한 값은 무엇인가?\"\n",
    "\n",
    "response1 = client.chat.completions.create(\n",
    "    messages=[{'role':'user', 'content':question}],\n",
    "    model=\"gpt-3.5-turbo-16k\",\n",
    "    temperature=0\n",
    ")\n",
    "\n",
    "answer = response1.choices[0].message.content.strip()\n",
    "\n",
    "correct_answer = 245\n",
    "if str(correct_answer) in answer:\n",
    "    feedback = '정답입니다.'\n",
    "    need_retry = False\n",
    "else:\n",
    "    feedback = '틀렸어요. 힌트는 7의 제곱값을 정확히 구한 다음 곱하세요.'\n",
    "    need_retry = True\n",
    "\n",
    "print(feedback)\n"
   ]
  },
  {
   "cell_type": "markdown",
   "id": "dc745a7a",
   "metadata": {},
   "source": [
    "# 틀린 갑을 출력하는 모델은?\n"
   ]
  },
  {
   "cell_type": "code",
   "execution_count": null,
   "id": "4b1aab97",
   "metadata": {},
   "outputs": [],
   "source": [
    "# 2차 답변 생성\n",
    "if need_retry:\n",
    "    retry_prompt = f\"이전 답변: {answer}, 피드백: {feedback}\\n다시 답을 구하세요.\"\n",
    "    response2 = client.chat.completions.create(\n",
    "        messages=[{'role': 'user', 'content': retry_prompt}],\n",
    "        model=\"gpt-3.5-turbo\",\n",
    "        temperature=0\n",
    "    )\n",
    "\n",
    "    answer2 = response2.choices[0].message.content.strip()\n",
    "    print(answer2)\n",
    "\n",
    "    "
   ]
  },
  {
   "cell_type": "code",
   "execution_count": 23,
   "id": "ac785a91",
   "metadata": {},
   "outputs": [
    {
     "name": "stdout",
     "output_type": "stream",
     "text": [
      "에세이 출력:\n",
      "\n",
      "### 기후 변화의 원인과 해결 방안\n",
      "\n",
      "기후 변화는 현대 사회가 직면한 가장 중대한 환경 문제 중 하나로, 지구의 평균 기온 상승과 극심한 날씨 변화 등의 형태로 나타납니다. 이러한 현상의 주된 원인은 인간의 활동에 의해 발생하는 온실가스의 증가입니다. 특히 석탄, 석유, 천연가스와 같은 화석 연료의 연소는 이산화탄소(CO2), 메탄(CH4) 등 다양한 온실가스를 방출하여 대기 중 농도를 높이고 있습니다. 또한, 산업화와 도시화로 인한 산림 파괴, 농업의 집약화 등도 기후 변화에 기여하고 있습니다.\n",
      "\n",
      "기후 변화의 해결 방안은 다양하지만, 크게 두 가지 방향으로 나눌 수 있습니다. 첫째는 온실가스 배출을 줄이는 것입니다. 이를 위해 재생 가능 에너지의 사용을 확대하고, 에너지 효율성을 높이며, 대중교통과 친환경 교통수단을 장려해야 합니다. 예를 들어, 태양광과 풍력 등 청정 에너지원의 개발과 보급은 화석 연료 의존도를 줄이는 데 큰 역할을 할 수 있습니다.\n",
      "\n",
      "둘째는 기후 변화에 적응하는 것입니다. 이미 발생한 기후 변화에 대응하기 위해서는 도시 설계, 농업 방법, 수자원 관리 등의 측면에서 변화가 필요합니다. 예를 들어, 기후 변화에 강한 식물 품종을 개발하고, 물 자원을 효율적으로 관리하는 등의 노력이 필요합니다. 또한, 기후 변화에 대한 교육과 인식을 높여 개인과 지역 사회가 적극적으로 참여할 수 있도록 유도하는 것도 중요합니다.\n",
      "\n",
      "결론적으로, 기후 변화는 인류의 지속 가능성을 위협하는 심각한 문제입니다. 이를 해결하기 위해서는 개인과 정부, 기업이 협력하여 온실가스를 줄이고, 기후 변화에 적응하는 지혜를 모아야 합니다. 기후 변화 대응은 단순한 선택이 아닌 인류의 미래를 위한 필수적인 과제입니다.\n"
     ]
    }
   ],
   "source": [
    "prompt = \"기후 변화의 원인과 해결 방안에 대해 간략한 에세이를 작성하시오.\"\n",
    "\n",
    "response5 = client.chat.completions.create(\n",
    "    model=\"gpt-4o-mini\",   # 최신 모델\n",
    "    messages=[\n",
    "        {\"role\": \"user\", \"content\": prompt}\n",
    "    ],\n",
    "    temperature=0.7\n",
    ")\n",
    "\n",
    "essay = response5.choices[0].message.content.strip()\n",
    "print(\"에세이 출력:\\n\")\n",
    "print(essay)\n"
   ]
  },
  {
   "cell_type": "code",
   "execution_count": null,
   "id": "7e3b9cb6",
   "metadata": {},
   "outputs": [],
   "source": []
  },
  {
   "cell_type": "code",
   "execution_count": null,
   "id": "bfdf2869",
   "metadata": {},
   "outputs": [],
   "source": []
  },
  {
   "cell_type": "code",
   "execution_count": null,
   "id": "16ee12b2",
   "metadata": {},
   "outputs": [],
   "source": []
  },
  {
   "cell_type": "code",
   "execution_count": null,
   "id": "0c943645",
   "metadata": {},
   "outputs": [],
   "source": []
  },
  {
   "cell_type": "code",
   "execution_count": null,
   "id": "604cedf1",
   "metadata": {},
   "outputs": [],
   "source": []
  }
 ],
 "metadata": {
  "kernelspec": {
   "display_name": "prompting_env",
   "language": "python",
   "name": "python3"
  },
  "language_info": {
   "codemirror_mode": {
    "name": "ipython",
    "version": 3
   },
   "file_extension": ".py",
   "mimetype": "text/x-python",
   "name": "python",
   "nbconvert_exporter": "python",
   "pygments_lexer": "ipython3",
   "version": "3.12.11"
  }
 },
 "nbformat": 4,
 "nbformat_minor": 5
}
