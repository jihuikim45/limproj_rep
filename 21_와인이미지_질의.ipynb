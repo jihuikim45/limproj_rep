{
 "cells": [
  {
   "cell_type": "code",
   "execution_count": 6,
   "id": "57bbea6b",
   "metadata": {},
   "outputs": [],
   "source": [
    "from openai import OpenAI\n",
    "client = OpenAI()\n",
    "\n",
    "response = client.chat.completions.create(\n",
    "  model=\"gpt-4o-mini\",\n",
    "  messages=[\n",
    "    {\n",
    "      \"role\": \"system\",\n",
    "      \"content\": [\n",
    "        {\n",
    "          \"type\": \"text\",\n",
    "          \"text\": \"You are an expert sommelier with extensive knowledge in wine, wine pairing, and \\nthe intricacies of food and beverage service. Your primary role is to assist users \\nin selecting the best wines and pairing them perfectly with meals. You have a deep \\nunderstanding of various wine regions, grape varieties, wine production methods, and \\ncurrent trends in the industry. You possess a refined palate, able to discern subtle \\nflavors and characteristics in wines. Your advice is always clear, approachable, and \\ntailored to each user’s preferences and specific dining context. You also educate users \\non wine appreciation, proper wine service, and the art of creating a harmonious dining \\nexperience. Your demeanor is professional, courteous, and passionate about wine culture, \\naiming to make each wine selection and pairing a memorable experience for users.\"\n",
    "        }\n",
    "      ]\n",
    "    },\n",
    "    {\n",
    "      \"role\": \"user\",\n",
    "      \"content\": [\n",
    "        {\n",
    "          \"type\": \"text\",\n",
    "          \"text\": \"이 와인에 어울리는 요리에는 어떤 것들이 있을까요?\"\n",
    "        },\n",
    "        {\n",
    "          \"type\": \"image_url\",\n",
    "          \"image_url\": {\n",
    "            \"url\": \"https://images.vivino.com/thumbs/Z90I3--JRKWlpMA8wdLY-Q_pb_x600.png\"\n",
    "          }\n",
    "        }\n",
    "      ]\n",
    "    },\n",
    "    {\n",
    "      \"role\": \"assistant\",\n",
    "      \"content\": [\n",
    "        {\n",
    "          \"type\": \"text\",\n",
    "          \"text\": \"Masserì Primitivo는 풍부하고 과일 맛이 가득한 레드 와인으로, 다음과 같은 요리와 잘 어울립니다:\\n\\n1. **육류 요리**: 스테이크, 양갈비, 또는 바베큐 같은 고기 요리와 훌륭하게 매칭됩니다. \\n2. **이탈리안 요리**: 라자냐, 볼로네제 소스 파스타, 또는 올리브 오일과 허브로 맛을 낸 피자와 잘 어울립니다.\\n3. **매운 요리**: 매운 소스의 한식이나 멕시코 요리와 조화롭게 어우러집니다.\\n4. **치즈**: 강한 풍미의 숙성 치즈, 특히 파르미지아노 레지아노나 고르곤졸라와 좋은 조합을 이룹니다.\\n5. **버섯 요리**: 버섯 리조또나 크리미한 버섯 소스의 파스타도 추천합니다.\\n\\n이 와인의 과일 향과 탄닌이 다양한 요리와 잘 어우러져 풍미를 한층 더해줄 것입니다.\"\n",
    "        }\n",
    "      ]\n",
    "    }\n",
    "  ],\n",
    "  response_format={\n",
    "    \"type\": \"text\"\n",
    "  },\n",
    "  temperature=1,\n",
    "  max_completion_tokens=2048,\n",
    "  top_p=1,\n",
    "  frequency_penalty=0,\n",
    "  presence_penalty=0\n",
    ")"
   ]
  },
  {
   "cell_type": "code",
   "execution_count": 9,
   "id": "cff24cf7",
   "metadata": {},
   "outputs": [
    {
     "name": "stdout",
     "output_type": "stream",
     "text": [
      "Masserì Primitivo는 풍부하고 과일 맛이 가득한 레드 와인으로, 다음과 같은 요리와 잘 어울립니다:\n",
      "\n",
      "1. **육류 요리**: 스테이크, 양갈비, 또는 바베큐 같은 고기 요리와 훌륭하게 매칭됩니다.\n",
      "2. **이탈리안 요리**: 라자냐, 볼로네제 소스 파스타, 또는 올리브 오일과 허브로 맛을 낸 피자와 잘 어울립니다.\n",
      "3. **매운 요리**: 매운 소스의 한식이나 멕시코 요리와 조화롭게 어우러집니다.\n",
      "4. **치즈**: 강한 풍미의 숙성 치즈, 특히 파르미지아노 레지아노나 고르곤졸라와 좋은 조합을 이룹니다.\n",
      "5. **버섯 요리**: 버섯 리조또나 크리미한 버섯 소스의 파스타도 추천합니다.\n",
      "\n",
      "이 와인의 과일 향과 탄닌이 다양한 요리와 잘 어우러져 풍미를 한층 더해줄 것입니다.\n"
     ]
    }
   ],
   "source": [
    "# content 내용만 출력\n",
    "print(\"\".join([choice.message.content for choice in response.choices]))"
   ]
  },
  {
   "cell_type": "code",
   "execution_count": 18,
   "id": "804bf287",
   "metadata": {},
   "outputs": [],
   "source": [
    "from openai import OpenAI\n",
    "\n",
    "def recommend_dishes(query):\n",
    "  client = OpenAI()\n",
    "\n",
    "  response = client.chat.completions.create(\n",
    "    model=\"gpt-4o-mini\",\n",
    "    messages=[\n",
    "      {\n",
    "        \"role\": \"system\",\n",
    "        \"content\": [\n",
    "          {\n",
    "            \"type\": \"text\",\n",
    "            \"text\": \"You are an expert sommelier with extensive knowledge in wine, wine pairing, and the intricacies of food and beverage service. Your primary role is to assist users in selecting the best wines and pairing them perfectly with meals. You have a deep understanding of various wine regions, grape varieties, wine production methods, and current trends in the industry. You possess a refined palate, able to discern subtle flavors and characteristics in wines. Your advice is always clear, approachable, and tailored to each user’s preferences and specific dining context. You also educate users on wine appreciation, proper wine service, and the art of creating a harmonious dining experience. Your demeanor is professional, courteous, and passionate about wine culture, aiming to make each wine selection and pairing a memorable experience for users.\"\n",
    "          }\n",
    "        ]\n",
    "      },\n",
    "      {\n",
    "        \"role\": \"user\",\n",
    "        \"content\": [\n",
    "          {\n",
    "            \"type\": \"text\",\n",
    "            \"text\": query.get('text')\n",
    "          },\n",
    "          {\n",
    "          \"type\": \"image_url\",\n",
    "          \"image_url\": {\n",
    "            \"url\":  query.get('image_url')\n",
    "          }\n",
    "        }\n",
    "        ]\n",
    "      }\n",
    "    ],\n",
    "    response_format={\n",
    "      \"type\": \"text\"\n",
    "    },\n",
    "    temperature=0,\n",
    "    max_completion_tokens=2048,\n",
    "    top_p=1,\n",
    "    frequency_penalty=0,\n",
    "    presence_penalty=0\n",
    "  )\n",
    "  return \"\".join([choice.message.content for choice in response.choices])"
   ]
  },
  {
   "cell_type": "code",
   "execution_count": 19,
   "id": "53e1c859",
   "metadata": {},
   "outputs": [
    {
     "data": {
      "text/plain": [
       "'Masserì Primitivo는 풍부한 과일 향과 부드러운 탄닌을 가진 레드 와인으로, 다양한 요리와 잘 어울립니다. 다음은 이 와인과 잘 어울리는 요리 몇 가지입니다:\\n\\n1. **구운 고기 요리**: 양고기, 소고기 스테이크, 또는 바비큐와 같은 구운 고기 요리와 잘 어울립니다.\\n2. **파스타**: 토마토 소스나 고기 소스가 들어간 파스타 요리, 예를 들어 라자냐나 볼로네제와 잘 매칭됩니다.\\n3. **치즈**: 숙성된 치즈, 특히 파르미지아노 레지아노나 고르곤졸라와 같은 강한 맛의 치즈와 잘 어울립니다.\\n4. **이탈리안 요리**: 리조또, 특히 버섯 리조또와 같은 이탈리안 요리와도 좋은 조화를 이룹니다.\\n5. **스파이시 요리**: 매운 소스를 곁들인 요리, 예를 들어 타코나 부리토와 같은 멕시코 요리와도 잘 어울립니다.\\n\\n이 와인은 다양한 요리와 조화를 이루며, 특히 풍부하고 강한 맛의 요리와 함께 즐기면 더욱 좋습니다.'"
      ]
     },
     "execution_count": 19,
     "metadata": {},
     "output_type": "execute_result"
    }
   ],
   "source": [
    "query = {'text':'이 와인에 어울리는 요리에는 어떤 것들이 있을까요?', \n",
    "         'image_url':'https://images.vivino.com/thumbs/Z90I3--JRKWlpMA8wdLY-Q_pb_x600.png'}\n",
    "response = recommend_dishes(query)\n",
    "response"
   ]
  }
 ],
 "metadata": {
  "kernelspec": {
   "display_name": "prompting_env",
   "language": "python",
   "name": "python3"
  },
  "language_info": {
   "codemirror_mode": {
    "name": "ipython",
    "version": 3
   },
   "file_extension": ".py",
   "mimetype": "text/x-python",
   "name": "python",
   "nbconvert_exporter": "python",
   "pygments_lexer": "ipython3",
   "version": "3.12.11"
  }
 },
 "nbformat": 4,
 "nbformat_minor": 5
}
