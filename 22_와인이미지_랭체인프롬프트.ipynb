{
 "cells": [
  {
   "cell_type": "markdown",
   "id": "6f59cf3f",
   "metadata": {},
   "source": [
    "# recommend_dish 용 랭체인 프롬프트"
   ]
  },
  {
   "cell_type": "code",
   "execution_count": 1,
   "id": "9a6a8a0e",
   "metadata": {},
   "outputs": [
    {
     "name": "stdout",
     "output_type": "stream",
     "text": [
      "Masserì Primitivo는 풍부한 과일 향과 부드러운 타닌을 가진 레드 와인으로, 다양한 요리와 잘 어울립니다. 이 와인에 잘 어울리는 요리 몇 가지는 다음과 같습니다:\n",
      "\n",
      "1. **그릴 요리**: 쇠고기 스테이크, 양갈비, 또는 닭고기와 같은 그릴 바비큐 요리.\n",
      "2. **파스타**: 진한 토마토 소스나 고기 소스를 곁들인 파스타 요리.\n",
      "3. **치즈**: 숙성된 체다, 고르곤졸라, 또는 기타 강한 맛의 치즈.\n",
      "4. **양고기 요리**: 양고기 스튜나 양고기 커리.\n",
      "5. **한식**: 불고기나 갈비찜과 같은 달콤하고 짭짤한 한식과도 잘 어울립니다.\n",
      "\n",
      "이 요리들은 Masserì Primitivo의 과일 맛과 구조감 있는 바디를 더욱 부각시켜 줄 것입니다. 즐거운 식사 되세요!\n"
     ]
    }
   ],
   "source": [
    "from langchain.prompts import ChatPromptTemplate\n",
    "from langchain_openai import ChatOpenAI\n",
    "\n",
    "llm = ChatOpenAI(model='gpt-4o-mini')\n",
    "                 \n",
    "SYSTEM_PROMPT = \"You are an expert sommelier with extensive knowledge in wine, wine pairing, and the intricacies of food and beverage service. Your primary role is to assist users in selecting the best wines and pairing them perfectly with meals. You have a deep understanding of various wine regions, grape varieties, wine production methods, and current trends in the industry. You possess a refined palate, able to discern subtle flavors and characteristics in wines. Your advice is always clear, approachable, and tailored to each user’s preferences and specific dining context. You also educate users on wine appreciation, proper wine service, and the art of creating a harmonious dining experience. Your demeanor is professional, courteous, and passionate about wine culture, aiming to make each wine selection and pairing a memorable experience for users.\"\n",
    "\n",
    "\n",
    "chat_template = ChatPromptTemplate.from_messages([\n",
    "    (\"system\", SYSTEM_PROMPT),\n",
    "    (\"human\", [\n",
    "        {\"type\": \"text\", \"text\": \"{text}\"},\n",
    "        {\"type\": \"image_url\", \"image_url\": {\"url\": \"{image_url}\"}}\n",
    "    ])\n",
    "])\n",
    "\n",
    "chain = chat_template | llm\n",
    "\n",
    "wine_query = \"이 와인에 어울리는 요리에는 어떤 것들이 있을까요?\"\n",
    "response = chain.invoke({\n",
    "    \"text\": wine_query,\n",
    "    \"image_url\": \"https://images.vivino.com/thumbs/Z90I3--JRKWlpMA8wdLY-Q_pb_x600.png\"\n",
    "})\n",
    "\n",
    "print(response.content)"
   ]
  },
  {
   "cell_type": "code",
   "execution_count": 2,
   "id": "bb2b8414",
   "metadata": {},
   "outputs": [],
   "source": [
    "def recommend_dishes_chain(query):\n",
    "    \n",
    "    chat_template = ChatPromptTemplate.from_messages([\n",
    "        (\"system\", SYSTEM_PROMPT),\n",
    "        (\"human\", [\n",
    "            {\"type\": \"text\", \"text\": query['text']},\n",
    "            {\"type\": \"image_url\", \"image_url\": {\"url\": query['image_url']}}\n",
    "        ])\n",
    "    ])\n",
    "    chain = chat_template | llm\n",
    "    return chain"
   ]
  },
  {
   "cell_type": "code",
   "execution_count": 3,
   "id": "aaf34a4e",
   "metadata": {},
   "outputs": [],
   "source": [
    "query_1 = {\n",
    "    \"text\": wine_query,\n",
    "    \"image_url\": \"https://images.vivino.com/thumbs/Z90I3--JRKWlpMA8wdLY-Q_pb_x600.png\"\n",
    "}\n",
    "rec_dish_chain = recommend_dishes_chain(query_1)"
   ]
  },
  {
   "cell_type": "code",
   "execution_count": 4,
   "id": "e6f37b26",
   "metadata": {},
   "outputs": [
    {
     "data": {
      "text/plain": [
       "AIMessage(content='Masserì Primitivo 와인은 풍부한 과일향과 부드러운 탄닌으로 유명합니다. 이 와인에 어울리는 요리 몇 가지를 추천해 드릴게요.\\n\\n1. **레드 미트**: 소고기 스테이크나 양고기 등 기름기 있는 고기와 잘 어울립니다.\\n2. **파스타 요리**: 토마토 소스를 기반으로 한 파스타, 특히 라구 소스와 함께하면 맛의 조화가 좋습니다.\\n3. **그릴 요리**: 그릴에 구운 고기, 소세지 또는 바비큐가 훌륭한 조합입니다.\\n4. **치즈 플래터**: 에멘탈, 고르곤졸라, 또는 체다와 같은 강한 맛의 치즈와 잘 어울립니다.\\n5. **버섯 요리**: 버섯 리조또나 양송이 볶음처럼 깊은 맛을 가진 요리와의 조화가 좋습니다.\\n\\n이 와인의 풍미를 최대한 즐기기 위해 다양한 요리를 시도해 보세요!', additional_kwargs={'refusal': None}, response_metadata={'token_usage': {'completion_tokens': 243, 'prompt_tokens': 14348, 'total_tokens': 14591, 'completion_tokens_details': {'accepted_prediction_tokens': 0, 'audio_tokens': 0, 'reasoning_tokens': 0, 'rejected_prediction_tokens': 0}, 'prompt_tokens_details': {'audio_tokens': 0, 'cached_tokens': 0}}, 'model_name': 'gpt-4o-mini-2024-07-18', 'system_fingerprint': 'fp_51db84afab', 'id': 'chatcmpl-CEyLcVfSMoh86YT1HF7TNFfMHQ4Ze', 'service_tier': 'default', 'finish_reason': 'stop', 'logprobs': None}, id='run--6d0aaa33-8991-48e0-85b0-df5aa3437f5c-0', usage_metadata={'input_tokens': 14348, 'output_tokens': 243, 'total_tokens': 14591, 'input_token_details': {'audio': 0, 'cache_read': 0}, 'output_token_details': {'audio': 0, 'reasoning': 0}})"
      ]
     },
     "execution_count": 4,
     "metadata": {},
     "output_type": "execute_result"
    }
   ],
   "source": [
    "rec_dish_chain.invoke(query_1)"
   ]
  },
  {
   "cell_type": "code",
   "execution_count": 5,
   "id": "435918fb",
   "metadata": {},
   "outputs": [
    {
     "data": {
      "text/plain": [
       "AIMessage(content='Masserì Primitivo는 강렬한 과일향과 부드러운 타닌이 특징인 레드 와인입니다. 이 와인에 어울리는 요리로는 다음과 같은 것들이 있습니다:\\n\\n1. **그릴에 구운 고기**: 소고기 스테이크, 양갈비 또는 바비큐와 잘 어울립니다.\\n2. **파스타 요리**: 진한 토마토 소스가 들어간 파스타나 라자냐와 잘 매치됩니다.\\n3. **치즈**: 숙성된 체다 치즈나 고르곤졸라 같은 블루 치즈와 훌륭한 조화를 이룹니다.\\n4. **한식**: 불고기나 갈비찜과 같은 양념이 강한 한식 요리와도 잘 어울립니다.\\n5. **스튜**: 소고기나 양고기 스튜와 같은 푸짐한 스튜 요리와 매칭하기 좋습니다.\\n\\n이 와인의 풍미를 고려했을 때, 풍미가 강하고 기름진 요리와의 조화가 특히 좋습니다. 즐거운 식사 되세요!', additional_kwargs={'refusal': None}, response_metadata={'token_usage': {'completion_tokens': 251, 'prompt_tokens': 14348, 'total_tokens': 14599, 'completion_tokens_details': {'accepted_prediction_tokens': 0, 'audio_tokens': 0, 'reasoning_tokens': 0, 'rejected_prediction_tokens': 0}, 'prompt_tokens_details': {'audio_tokens': 0, 'cached_tokens': 0}}, 'model_name': 'gpt-4o-mini-2024-07-18', 'system_fingerprint': 'fp_e867127662', 'id': 'chatcmpl-CEyLjGL92KGHxqVgFlXcbsLvtVnxm', 'service_tier': 'default', 'finish_reason': 'stop', 'logprobs': None}, id='run--42a8a98d-f265-45a7-a61c-c2d95577aef6-0', usage_metadata={'input_tokens': 14348, 'output_tokens': 251, 'total_tokens': 14599, 'input_token_details': {'audio': 0, 'cache_read': 0}, 'output_token_details': {'audio': 0, 'reasoning': 0}})"
      ]
     },
     "execution_count": 5,
     "metadata": {},
     "output_type": "execute_result"
    }
   ],
   "source": [
    "from langchain_core.runnables import RunnableLambda\n",
    "runnable = RunnableLambda(recommend_dishes_chain)\n",
    "response = runnable.invoke(query_1)\n",
    "response"
   ]
  },
  {
   "cell_type": "markdown",
   "id": "34482d92",
   "metadata": {},
   "source": [
    "# describe_dish_flavor_chain 용 랭체인 프롬프트"
   ]
  },
  {
   "cell_type": "code",
   "execution_count": 6,
   "id": "883bd798",
   "metadata": {},
   "outputs": [],
   "source": [
    "dish_system_prompt = \"\"\"\n",
    "            Persona:\n",
    "            As a flavor analysis system, I am equipped with a deep understanding of food ingredients, cooking methods, and sensory properties such as taste, texture, and aroma. I can assess and break down the flavor profiles of dishes by identifying the dominant tastes (sweet, sour, salty, bitter, umami) as well as subtler elements like spice levels, richness, freshness, and aftertaste. I am able to compare different foods based on their ingredients and cooking techniques, while also considering cultural influences and typical pairings. My goal is to provide a detailed analysis of a dish’s flavor profile to help users better understand what makes it unique or to aid in choosing complementary foods and drinks.\n",
    "\n",
    "            Role:\n",
    "\n",
    "            1. Flavor Identification: I analyze the dominant and secondary flavors of a dish, highlighting key taste elements such as sweetness, acidity, bitterness, saltiness, umami, and the presence of spices or herbs.\n",
    "            2. Texture and Aroma Analysis: Beyond taste, I assess the mouthfeel and aroma of the dish, taking into account how texture (e.g., creamy, crunchy) and scents (e.g., smoky, floral) contribute to the overall experience.\n",
    "            3. Ingredient Breakdown: I evaluate the role each ingredient plays in the dish’s flavor, including their impact on the dish's balance, richness, or intensity.\n",
    "            4. Culinary Influence: I consider the cultural or regional influences that shape the dish, understanding how traditional cooking methods or unique ingredients affect the overall taste.\n",
    "            5. Food and Drink Pairing: Based on the dish's flavor profile, I suggest complementary food or drink pairings that enhance or balance the dish’s qualities.\n",
    "\n",
    "            Examples:\n",
    "\n",
    "            - Dish Flavor Breakdown:\n",
    "            For a butter garlic shrimp, I identify the richness from the butter, the pungent aroma of garlic, and the subtle sweetness of the shrimp. The dish balances richness with a touch of saltiness, and the soft, tender texture of the shrimp is complemented by the slight crispness from grilling.\n",
    "\n",
    "            - Texture and Aroma Analysis:\n",
    "            A creamy mushroom risotto has a smooth, velvety texture due to the creamy broth and butter. The earthy aroma from the mushrooms enhances the umami flavor, while a sprinkle of Parmesan adds a savory touch with a mild sharpness.\n",
    "\n",
    "            - Ingredient Role Assessment:\n",
    "            In a spicy Thai curry, the coconut milk provides a rich, creamy base, while the lemongrass and lime add freshness and citrus notes. The chilies bring the heat, and the balance between sweet, sour, and spicy elements creates a dynamic flavor profile.\n",
    "\n",
    "            - Cultural Influence:\n",
    "            A traditional Italian margherita pizza draws on the classic combination of fresh tomatoes, mozzarella, and basil. The simplicity of the ingredients allows the flavors to shine, with the tanginess of the tomato sauce balancing the richness of the cheese and the freshness of the basil.\n",
    "\n",
    "            - Food Pairing Example:\n",
    "            For a rich chocolate cake, I would recommend a sweet dessert wine like Port to complement the bitterness of the chocolate, or a light espresso to contrast the sweetness and enhance the richness of the dessert.\n",
    "        \"\"\""
   ]
  },
  {
   "cell_type": "code",
   "execution_count": 7,
   "id": "2030c767",
   "metadata": {},
   "outputs": [],
   "source": [
    "def describe_dish_flavor_chain(query):\n",
    "    # 이미지가 있는 경우와 없는 경우를 구분하여 처리\n",
    "    if query.get(\"image_url\"):\n",
    "        # 이미지가 있는 경우: 멀티모달 프롬프트\n",
    "        messages = [\n",
    "            (\"system\", dish_system_prompt),\n",
    "            (\"human\", [\n",
    "                {\"type\": \"text\", \"text\": \"이 요리의 이름과 맛을 한 문장으로 요약해주세요.\"},\n",
    "                {\"type\": \"image_url\", \"image_url\": {\"url\": \"{image_url}\"}}\n",
    "            ])\n",
    "        ]\n",
    "    else:\n",
    "        # 텍스트만 있는 경우 (이미지 없이는 요리 설명이 어려우므로 안내 메시지)\n",
    "        messages = [\n",
    "            (\"system\", dish_system_prompt),\n",
    "            (\"user\", \"요리 이미지가 제공되지 않았습니다. 요리 이미지를 업로드해주시면 정확한 분석을 도와드리겠습니다.\")\n",
    "        ]\n",
    "    \n",
    "    prompt = ChatPromptTemplate.from_messages(messages)\n",
    "    \n",
    "    # output_parser 제거, 바로 LLM 연결\n",
    "    chain = prompt | llm\n",
    "    return chain\n"
   ]
  },
  {
   "cell_type": "code",
   "execution_count": 8,
   "id": "404a6840",
   "metadata": {},
   "outputs": [
    {
     "name": "stdout",
     "output_type": "stream",
     "text": [
      "content='요리 이미지를 제공할 수 없다면, 해당 요리의 이름이나 주재료, 요리 방법에 대한 정보를 말씀해주시면, 제가 그에 대한 맛 프로파일, 텍스처, 향미, 재료 분석 등을 도와드릴 수 있습니다. 어떤 요리에 대해 알고 싶으신가요?' additional_kwargs={'refusal': None} response_metadata={'token_usage': {'completion_tokens': 69, 'prompt_tokens': 673, 'total_tokens': 742, 'completion_tokens_details': {'accepted_prediction_tokens': 0, 'audio_tokens': 0, 'reasoning_tokens': 0, 'rejected_prediction_tokens': 0}, 'prompt_tokens_details': {'audio_tokens': 0, 'cached_tokens': 0}}, 'model_name': 'gpt-4o-mini-2024-07-18', 'system_fingerprint': 'fp_51db84afab', 'id': 'chatcmpl-CEyLxT9rNKNLVGlGHmc4jiegMuw6H', 'service_tier': 'default', 'finish_reason': 'stop', 'logprobs': None} id='run--be638459-1b76-4eca-a604-e2498dd7485e-0' usage_metadata={'input_tokens': 673, 'output_tokens': 69, 'total_tokens': 742, 'input_token_details': {'audio': 0, 'cache_read': 0}, 'output_token_details': {'audio': 0, 'reasoning': 0}}\n"
     ]
    }
   ],
   "source": [
    "runnable = RunnableLambda(describe_dish_flavor_chain)\n",
    "response = runnable.invoke({\n",
    "    \"image_urls\": [\"https://www.stockfood.com/Sites/StockFood/Documents/Homepage/News//en/16.jpg\"]\n",
    "})\n",
    "\n",
    "print(response)\n",
    "#이 요리는 판차넬라 샐러드로, 신선한 토마토와 바질의 상큼함이 빵의 고소함과 어우러져 상쾌하고 풍부한 맛을 냅니다."
   ]
  },
  {
   "cell_type": "markdown",
   "id": "4e84c4f4",
   "metadata": {},
   "source": [
    "# wine_search_chain"
   ]
  },
  {
   "cell_type": "code",
   "execution_count": 9,
   "id": "f3a0694e",
   "metadata": {},
   "outputs": [
    {
     "data": {
      "text/plain": [
       "True"
      ]
     },
     "execution_count": 9,
     "metadata": {},
     "output_type": "execute_result"
    }
   ],
   "source": [
    "from dotenv import load_dotenv\n",
    "import os\n",
    "from langchain_openai import ChatOpenAI\n",
    "\n",
    "load_dotenv()"
   ]
  },
  {
   "cell_type": "code",
   "execution_count": 15,
   "id": "a43a9104",
   "metadata": {},
   "outputs": [],
   "source": [
    "from langchain_openai import OpenAIEmbeddings\n",
    "from langchain_pinecone import PineconeVectorStore\n",
    "\n",
    "embedding = OpenAIEmbeddings(model='text-embedding-3-small')\n",
    "vector_store = PineconeVectorStore(\n",
    "    index_name=os.getenv(\"PINECONE_INDEX_NAME\"),\n",
    "    embedding=embedding,\n",
    "    pinecone_api_key=os.getenv(\"PINECONE_API_KEY\")\n",
    ")"
   ]
  },
  {
   "cell_type": "code",
   "execution_count": 23,
   "id": "a35d4168",
   "metadata": {},
   "outputs": [
    {
     "name": "stdout",
     "output_type": "stream",
     "text": [
      "{'country': 'US', 'points': 91.0, 'title': 'Patz & Hall 2015 Alder Springs Vineyard Chardonnay (Mendocino)', 'variety': 'Chardonnay'}\n",
      "{'country': 'US', 'points': 89.0, 'title': 'Blackjack 2012 Black Cap Reserve Chardonnay (Santa Barbara County)', 'variety': 'Chardonnay'}\n",
      "{'country': 'US', 'points': 87.0, 'title': 'Lafond 2010 SRH Chardonnay (Sta. Rita Hills)', 'variety': 'Chardonnay'}\n",
      "{'country': 'US', 'points': 87.0, 'title': 'Jaffurs 2010 Thompson Vineyard Grenache Blanc (Santa Barbara County)', 'variety': 'Grenache Blanc'}\n",
      "{'country': 'US', 'points': 91.0, 'title': 'Byington 2013 Block 4 Estate Pinot Noir (Santa Cruz Mountains)', 'variety': 'Pinot Noir'}\n"
     ]
    },
    {
     "data": {
      "text/plain": [
       "[]"
      ]
     },
     "execution_count": 23,
     "metadata": {},
     "output_type": "execute_result"
    }
   ],
   "source": [
    "# vector store에서 현재 요리의 풍미와 맛과 유사한 와인 검색\n",
    "taste_query =  \"이 요리는 판차넬라 샐러드로, 신선한 토마토와 바질의 상큼함이 빵의 고소함과 어우러져 상쾌하고 풍부한 맛을 냅니다.\"\n",
    "query_embedding = embedding.embed_query(taste_query)\n",
    "raw_results = index.query(\n",
    "    vector=query_embedding,\n",
    "    top_k=5,\n",
    "    namespace=namespace,\n",
    "    include_metadata=True\n",
    ")\n",
    "for match in raw_results['matches']:\n",
    "    print(match['metadata'])\n",
    "\n",
    "\n",
    "\n",
    "\n",
    "results"
   ]
  },
  {
   "cell_type": "code",
   "execution_count": 41,
   "id": "90e6a985",
   "metadata": {},
   "outputs": [
    {
     "name": "stdout",
     "output_type": "stream",
     "text": [
      "0.295589447 {'country': 'US', 'points': 93.0, 'title': 'Pace 2013 Syrah (Santa Ynez Valley)', 'variety': 'Syrah'}\n",
      "0.291131049 {'country': 'US', 'points': 91.0, 'title': 'Bernat 2009 Presence Colson Canyon Syrah (Santa Barbara County)', 'variety': 'Syrah'}\n",
      "0.267975807 {'country': 'US', 'points': 89.0, 'title': 'Margerum 2012 Grenache (Santa Barbara County)', 'variety': 'Grenache'}\n",
      "0.2645998 {'country': 'US', 'points': 85.0, 'title': 'Hosmer 2009 Pinot Noir (Cayuga Lake)', 'variety': 'Pinot Noir'}\n",
      "0.264583558 {'country': 'US', 'points': 85.0, 'title': 'Hosmer 2009 Pinot Noir (Cayuga Lake)', 'variety': 'Pinot Noir'}\n"
     ]
    }
   ],
   "source": [
    "query_embedding = embedding.embed_query(query_text)\n",
    "\n",
    "raw_results = index.query(\n",
    "    vector=query_embedding,\n",
    "    top_k=5,\n",
    "    namespace=\"__default__\",   # 네 상황에 맞는 네임스페이스\n",
    "    include_metadata=True\n",
    ")\n",
    "\n",
    "for match in raw_results[\"matches\"]:\n",
    "    print(match[\"score\"], match[\"metadata\"])\n"
   ]
  },
  {
   "cell_type": "code",
   "execution_count": 42,
   "id": "1063278c",
   "metadata": {},
   "outputs": [],
   "source": [
    "def search_wine(dish_flavor):\n",
    "    results = vector_store.similarity_search(\n",
    "        dish_flavor, \n",
    "        k=5, \n",
    "        namespace=os.getenv(\"PINECONE_NAMESPACE\")\n",
    "    )\n",
    "\n",
    "    return {\n",
    "        \"dish_flavor\": dish_flavor,\n",
    "        \"wine_reviews\": \"\\n\".join([doc.page_content for doc in results])\n",
    "    }"
   ]
  },
  {
   "cell_type": "code",
   "execution_count": 49,
   "id": "6d839099",
   "metadata": {},
   "outputs": [
    {
     "name": "stdout",
     "output_type": "stream",
     "text": [
      "{'dish_flavor': '판차넬라 샐러드', 'wine_reviews': [{'score': 0.273521453, 'id': '63564', 'metadata': {'country': 'US', 'points': 90.0, 'title': 'Ascension Cellars 2012 Soul Shaker Cass Vineyard Red (Paso Robles)', 'variety': 'Bordeaux-style Red Blend'}, 'preview': []}, {'score': 0.270118713, 'id': '78459', 'metadata': {'country': 'US', 'points': 89.0, 'title': 'Mirabelle NV Brut Rosé Sparkling (North Coast)', 'variety': 'Sparkling Blend'}, 'preview': []}, {'score': 0.267053604, 'id': '89572', 'metadata': {'country': 'US', 'points': 90.0, 'title': 'Gloria Ferrer NV Blanc de Noirs Sparkling (Carneros)', 'variety': 'Sparkling Blend'}, 'preview': []}, {'score': 0.263872147, 'id': '55319', 'metadata': {'country': 'US', 'points': 84.0, 'title': 'Beaulieu Vineyard 2011 Coastal Estates Cabernet Sauvignon (California)', 'variety': 'Cabernet Sauvignon'}, 'preview': []}, {'score': 0.262655228, 'id': '29012', 'metadata': {'country': 'US', 'points': 87.0, 'title': 'Schramsberg NV Mirabelle Brut Sparkling (North Coast)', 'variety': 'Sparkling Blend'}, 'preview': []}]}\n"
     ]
    }
   ],
   "source": [
    "def search_wine(query: str):\n",
    "    query_embedding = embedding.embed_query(query)\n",
    "    raw_results = index.query(\n",
    "        vector=query_embedding,\n",
    "        top_k=5,\n",
    "        namespace=\"\",   # 반드시 빈 문자열\n",
    "        include_metadata=True\n",
    "    )\n",
    "\n",
    "    wines = []\n",
    "    for match in raw_results[\"matches\"]:\n",
    "        wines.append({\n",
    "            \"score\": match[\"score\"],\n",
    "            \"id\": match[\"id\"],\n",
    "            \"metadata\": match[\"metadata\"],       # 그냥 metadata 전체 출력\n",
    "            \"preview\": match.get(\"values\", None) # 혹시 values 확인용\n",
    "        })\n",
    "\n",
    "    return {\n",
    "        \"dish_flavor\": query,\n",
    "        \"wine_reviews\": wines\n",
    "    }\n",
    "\n",
    "response = search_wine(\"판차넬라 샐러드\")\n",
    "print(response)\n"
   ]
  },
  {
   "cell_type": "code",
   "execution_count": 50,
   "id": "5490f79f",
   "metadata": {},
   "outputs": [],
   "source": [
    "from pinecone import Pinecone\n",
    "pc = Pinecone(api_key=os.getenv(\"PINECONE_API_KEY\"))"
   ]
  },
  {
   "cell_type": "code",
   "execution_count": 51,
   "id": "ad25d1ee",
   "metadata": {},
   "outputs": [],
   "source": [
    "# 기존 인덱스 정보 확인 (차원수 등)\n",
    "existing_index = pc.Index(os.getenv(\"PINECONE_INDEX_NAME\"))\n",
    "index_stats = existing_index.describe_index_stats()"
   ]
  },
  {
   "cell_type": "code",
   "execution_count": 52,
   "id": "1a549d1a",
   "metadata": {},
   "outputs": [
    {
     "data": {
      "text/plain": [
       "{'dimension': 1536,\n",
       " 'index_fullness': 0.0,\n",
       " 'metric': 'cosine',\n",
       " 'namespaces': {'': {'vector_count': 129907}},\n",
       " 'total_vector_count': 129907,\n",
       " 'vector_type': 'dense'}"
      ]
     },
     "execution_count": 52,
     "metadata": {},
     "output_type": "execute_result"
    }
   ],
   "source": [
    "index_stats"
   ]
  },
  {
   "cell_type": "code",
   "execution_count": 54,
   "id": "73082b8c",
   "metadata": {},
   "outputs": [],
   "source": [
    "query = \"달콤한 맛을 느낄 수 있는 와인\"\n",
    "\n",
    "# 쿼리 임베딩 생성\n",
    "query_embedding = embedding.embed_query(query)\n",
    "\n",
    "# Pinecone 직접 쿼리\n",
    "raw_results = index.query(\n",
    "    vector=query_embedding,\n",
    "    top_k=5,\n",
    "    namespace=\"wine_description_only\",   # 원하는 namespace\n",
    "    include_metadata=True\n",
    ")\n",
    "\n",
    "# 보기 좋게 정리\n",
    "for match in raw_results[\"matches\"]:\n",
    "    print(match[\"score\"], match[\"metadata\"])\n"
   ]
  },
  {
   "cell_type": "code",
   "execution_count": null,
   "id": "8069b9ce",
   "metadata": {},
   "outputs": [],
   "source": [
    "# 국가별 필터링\n",
    "def search_wine_by_country(query, country=\"US\"):\n",
    "    results = vector_store.similarity_search(\n",
    "        query,\n",
    "        k=5,\n",
    "        filter={\"country\": country},\n",
    "        namespace=\"wine_description_only\"\n",
    "    )\n",
    "    return results"
   ]
  },
  {
   "cell_type": "code",
   "execution_count": null,
   "id": "77a2d1e4",
   "metadata": {},
   "outputs": [],
   "source": [
    "search_wine_by_country(query)"
   ]
  },
  {
   "cell_type": "markdown",
   "id": "22b096ec",
   "metadata": {},
   "source": [
    "recommend_wine"
   ]
  },
  {
   "cell_type": "code",
   "execution_count": null,
   "id": "0611ddce",
   "metadata": {},
   "outputs": [],
   "source": [
    "WINE_SOMMELIER_SYSTEM = \"\"\"\n",
    "            Persona:\n",
    "\n",
    "            As a sommelier, I possess an extensive knowledge of wines, including grape varieties, regions, tasting notes, and food pairings. I am highly skilled in recommending wines based on individual preferences, specific occasions, and particular dishes. My expertise includes understanding wine production methods, flavor profiles, and how they interact with different foods. I also stay updated on the latest trends in the wine world and am capable of suggesting wines that are both traditional and adventurous. I strive to provide personalized, thoughtful recommendations to enhance the dining experience.\n",
    "\n",
    "            Role:\n",
    "\n",
    "            1. Wine & Food Pairing: I offer detailed wine recommendations that pair harmoniously with specific dishes, balancing flavors and enhancing the overall dining experience. Whether it's a simple snack or an elaborate meal, I suggest wines that complement the texture, taste, and style of the food.\n",
    "            2. Wine Selection Guidance: For various occasions (celebrations, formal dinners, casual gatherings), I assist in selecting wines that suit the event and align with the preferences of the individuals involved.\n",
    "            3. Wine Tasting Expertise: I can help identify wines based on tasting notes like acidity, tannin levels, sweetness, and body, providing insights into what makes a wine unique.\n",
    "            4. Explaining Wine Terminology: I simplify complex wine terminology, making it easy for everyone to understand grape varieties, regions, and tasting profiles.\n",
    "            5. Educational Role: I inform and educate about different wine regions, production techniques, and wine styles, fostering an appreciation for the diversity of wines available.\n",
    "\n",
    "            Examples:\n",
    "\n",
    "            - Wine Pairing Example (Dish First):\n",
    "            For a grilled butter garlic shrimp dish, I would recommend a Sauvignon Blanc or a Chardonnay with crisp acidity to cut through the richness of the butter and enhance the seafood’s flavors.\n",
    "\n",
    "            - Wine Pairing Example (Wine First):  \n",
    "            If you're enjoying a Cabernet Sauvignon, its bold tannins and dark fruit flavors pair wonderfully with grilled steak or lamb. The richness of the meat complements the intensity of the wine.\n",
    "\n",
    "            - Wine Pairing Example (Wine First):\n",
    "            A Pinot Noir, known for its lighter body and subtle flavors of red berries, is perfect alongside roasted duck or mushroom risotto, as its earthy notes complement the dishes.\n",
    "\n",
    "            - Occasion-Based Selection:\n",
    "            If you are celebrating a romantic anniversary dinner, I would suggest a classic Champagne or an elegant Pinot Noir, perfect for a special and intimate evening.\n",
    "\n",
    "            - Guiding by Taste Preferences:\n",
    "            If you enjoy wines with bold flavors and intense tannins, a Cabernet Sauvignon from Napa Valley would suit your palate perfectly. For something lighter and fruitier, a Riesling could be a delightful alternative, pairing well with spicy dishes or fresh salads.\n",
    "        \"\"\""
   ]
  },
  {
   "cell_type": "code",
   "execution_count": null,
   "id": "1bb77272",
   "metadata": {},
   "outputs": [],
   "source": [
    "# output_parser 없이 수정\n",
    "def recommend_wine_chain(query):\n",
    "    prompt = ChatPromptTemplate.from_messages([\n",
    "        (\"system\", WINE_SOMMELIER_SYSTEM),\n",
    "        (\"human\", \"\"\"\n",
    "            와인 페이링 추천에 아래 요리/맛, 와인 리뷰만을 참고하여 한글로 답변해 주시기 바랍니다.\n",
    "\n",
    "            요리/맛:\n",
    "            {dish_flavor}\n",
    "\n",
    "            와인 리뷰:\n",
    "            {wine_reviews}\n",
    "        \"\"\")\n",
    "    ])\n",
    "\n",
    "    output_parser = StrOutputParser()\n",
    "    chain = prompt | llm | output_parser\n",
    "    \n",
    "    return chain"
   ]
  },
  {
   "cell_type": "markdown",
   "id": "e25f349e",
   "metadata": {},
   "source": [
    "# chain 연결"
   ]
  },
  {
   "cell_type": "code",
   "execution_count": null,
   "id": "89dd5352",
   "metadata": {},
   "outputs": [],
   "source": [
    "runnable_1 = RunnableLambda(describe_dish_flavor_chain)\n",
    "runnable_2 = RunnableLambda(search_wine)\n",
    "runnable_3 = RunnableLambda(recommend_wine_chain)\n",
    "\n",
    "chain = runnable_1 | runnable_2 | runnable_3"
   ]
  },
  {
   "cell_type": "markdown",
   "id": "d5e4752d",
   "metadata": {},
   "source": [
    "pip install -qU grandalf"
   ]
  },
  {
   "cell_type": "code",
   "execution_count": null,
   "id": "8b0792ae",
   "metadata": {},
   "outputs": [],
   "source": [
    "# 음식이미지 링크 > 음식 찾아서 음식맛 묘사 \n",
    "# > 음식맛이 와인평에 있는 와인 검색 \n",
    "# > 와인평+음식맛 > 소믈리에메시지\n",
    "chain.get_graph().print_ascii()"
   ]
  },
  {
   "cell_type": "code",
   "execution_count": null,
   "id": "5b9fe308",
   "metadata": {},
   "outputs": [],
   "source": [
    "response = chain.invoke(\n",
    "    {\n",
    "        \"image_url\": \"https://www.stockfood.com/Sites/StockFood/Documents/Homepage/News//en/16.jpg\"\n",
    "    }\n",
    ")"
   ]
  },
  {
   "cell_type": "code",
   "execution_count": null,
   "id": "bf875b3e",
   "metadata": {},
   "outputs": [],
   "source": [
    "response"
   ]
  }
 ],
 "metadata": {
  "kernelspec": {
   "display_name": "prompting_env",
   "language": "python",
   "name": "python3"
  },
  "language_info": {
   "codemirror_mode": {
    "name": "ipython",
    "version": 3
   },
   "file_extension": ".py",
   "mimetype": "text/x-python",
   "name": "python",
   "nbconvert_exporter": "python",
   "pygments_lexer": "ipython3",
   "version": "3.12.11"
  }
 },
 "nbformat": 4,
 "nbformat_minor": 5
}
