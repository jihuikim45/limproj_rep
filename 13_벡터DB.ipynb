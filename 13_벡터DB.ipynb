{
 "cells": [
  {
   "cell_type": "code",
   "execution_count": 60,
   "id": "f266c2a1",
   "metadata": {},
   "outputs": [],
   "source": [
    "from dotenv import load_dotenv\n",
    "import os\n",
    "\n",
    "load_dotenv()\n",
    "PINECONE_API_KEY = os.environ['PINECONE_API_KEY']\n"
   ]
  },
  {
   "cell_type": "markdown",
   "id": "17bfdf6d",
   "metadata": {},
   "source": [
    "# index 생성"
   ]
  },
  {
   "cell_type": "code",
   "execution_count": 61,
   "id": "f73b590a",
   "metadata": {},
   "outputs": [],
   "source": [
    "from pinecone import Pinecone\n",
    "#클라이언트 생성\n",
    "pinecone_client = Pinecone(api_key=PINECONE_API_KEY)"
   ]
  },
  {
   "cell_type": "code",
   "execution_count": 3,
   "id": "512a44eb",
   "metadata": {},
   "outputs": [
    {
     "data": {
      "text/plain": [
       "<pinecone.pinecone.Pinecone at 0x1641c81f350>"
      ]
     },
     "execution_count": 3,
     "metadata": {},
     "output_type": "execute_result"
    }
   ],
   "source": [
    "pinecone_client"
   ]
  },
  {
   "cell_type": "code",
   "execution_count": 4,
   "id": "52d77c3c",
   "metadata": {},
   "outputs": [
    {
     "data": {
      "text/plain": [
       "{\n",
       "    \"name\": \"embedding-3d\",\n",
       "    \"metric\": \"cosine\",\n",
       "    \"host\": \"embedding-3d-147ea7t.svc.aped-4627-b74a.pinecone.io\",\n",
       "    \"spec\": {\n",
       "        \"serverless\": {\n",
       "            \"cloud\": \"aws\",\n",
       "            \"region\": \"us-east-1\"\n",
       "        }\n",
       "    },\n",
       "    \"status\": {\n",
       "        \"ready\": true,\n",
       "        \"state\": \"Ready\"\n",
       "    },\n",
       "    \"vector_type\": \"dense\",\n",
       "    \"dimension\": 3,\n",
       "    \"deletion_protection\": \"disabled\",\n",
       "    \"tags\": null\n",
       "}"
      ]
     },
     "execution_count": 4,
     "metadata": {},
     "output_type": "execute_result"
    }
   ],
   "source": [
    "from pinecone import ServerlessSpec\n",
    "pinecone_client.create_index(\n",
    "    name='embedding-3d',\n",
    "    dimension=3,\n",
    "    metric='cosine',\n",
    "    spec=ServerlessSpec(\n",
    "        cloud='aws',\n",
    "        region='us-east-1'\n",
    "    )\n",
    ")"
   ]
  },
  {
   "cell_type": "code",
   "execution_count": 62,
   "id": "48f3f47c",
   "metadata": {},
   "outputs": [
    {
     "data": {
      "text/plain": [
       "<pinecone.db_data.index.Index at 0x11fa3f36d80>"
      ]
     },
     "execution_count": 62,
     "metadata": {},
     "output_type": "execute_result"
    }
   ],
   "source": [
    "index = pinecone_client.Index('embedding-3d')\n",
    "index"
   ]
  },
  {
   "cell_type": "code",
   "execution_count": 69,
   "id": "0718e925",
   "metadata": {},
   "outputs": [
    {
     "data": {
      "text/plain": [
       "{'dimension': 3,\n",
       " 'index_fullness': 0.0,\n",
       " 'metric': 'cosine',\n",
       " 'namespaces': {'': {'vector_count': 1},\n",
       "                'embedding-3d-nsl': {'vector_count': 6}},\n",
       " 'total_vector_count': 7,\n",
       " 'vector_type': 'dense'}"
      ]
     },
     "execution_count": 69,
     "metadata": {},
     "output_type": "execute_result"
    }
   ],
   "source": [
    "index.describe_index_stats()"
   ]
  },
  {
   "cell_type": "code",
   "execution_count": 7,
   "id": "03c77077",
   "metadata": {},
   "outputs": [],
   "source": [
    "for ids in index.list(namespace='embedding-3d-nsl'):\n",
    "    print(ids)"
   ]
  },
  {
   "cell_type": "markdown",
   "id": "5676fe12",
   "metadata": {},
   "source": [
    "# pinecone data 형식\n",
    "[{'id' : 'vec1' , 'values' :[1.0,1.5,2.0] , metadata' : {'genre':'drama'}},\n",
    "{'id' : 'vec1' , 'values' :[2.0,1.5,0.5] , metadata' : {'genre':'action'}},\n",
    "{'id' : 'vec1' , 'values' :[0.1,1.5,2.0] , metadata' : {'genre':'comic'}},\n",
    "{'id' : 'vec1' , 'values' :[1.0,2.5,3.5] , metadata' : {'genre':'drama'}},\n",
    "{'id' : 'vec1' , 'values' :[3.0,1.2,1.3] , metadata' : {'genre':'action'}},\n",
    "{'id' : 'vec1' , 'values' :[0.3,1.1,2.5] , metadata' : {'genre':'comic'}}\n",
    "]"
   ]
  },
  {
   "cell_type": "code",
   "execution_count": 9,
   "id": "864a02dd",
   "metadata": {},
   "outputs": [
    {
     "data": {
      "text/plain": [
       "{'upserted_count': 6}"
      ]
     },
     "execution_count": 9,
     "metadata": {},
     "output_type": "execute_result"
    }
   ],
   "source": [
    "index.upsert(\n",
    "    vectors=[\n",
    "        {'id': 'vec1', 'values': [1.0, 1.5, 2.0], 'metadata': {'genre': 'drama'}},\n",
    "        {'id': 'vec2', 'values': [2.0, 1.5, 0.5], 'metadata': {'genre': 'action'}},\n",
    "        {'id': 'vec3', 'values': [0.1, 1.5, 2.0], 'metadata': {'genre': 'comic'}},\n",
    "        {'id': 'vec4', 'values': [1.0, 2.5, 3.5], 'metadata': {'genre': 'drama'}},\n",
    "        {'id': 'vec5', 'values': [3.0, 1.2, 1.3], 'metadata': {'genre': 'action'}},\n",
    "        {'id': 'vec6', 'values': [0.3, 1.1, 2.5], 'metadata': {'genre': 'comic'}}\n",
    "    ],\n",
    "    namespace='embedding-3d-nsl'\n",
    ")\n"
   ]
  },
  {
   "cell_type": "code",
   "execution_count": 63,
   "id": "06dd654b",
   "metadata": {},
   "outputs": [
    {
     "data": {
      "text/plain": [
       "{'dimension': 3,\n",
       " 'index_fullness': 0.0,\n",
       " 'metric': 'cosine',\n",
       " 'namespaces': {'': {'vector_count': 1},\n",
       "                'embedding-3d-nsl': {'vector_count': 6}},\n",
       " 'total_vector_count': 7,\n",
       " 'vector_type': 'dense'}"
      ]
     },
     "execution_count": 63,
     "metadata": {},
     "output_type": "execute_result"
    }
   ],
   "source": [
    "index.describe_index_stats()"
   ]
  },
  {
   "cell_type": "markdown",
   "id": "2735dc5e",
   "metadata": {},
   "source": [
    "# id list"
   ]
  },
  {
   "cell_type": "code",
   "execution_count": 64,
   "id": "16ec034a",
   "metadata": {},
   "outputs": [
    {
     "name": "stdout",
     "output_type": "stream",
     "text": [
      "['vec1', 'vec2', 'vec3', 'vec4', 'vec5', 'vec6']\n"
     ]
    }
   ],
   "source": [
    "for ids in index.list(namespace='embedding-3d-nsl'):\n",
    "    print(ids)"
   ]
  },
  {
   "cell_type": "markdown",
   "id": "ac97ed22",
   "metadata": {},
   "source": [
    "# query"
   ]
  },
  {
   "cell_type": "code",
   "execution_count": 13,
   "id": "7521f985",
   "metadata": {},
   "outputs": [
    {
     "data": {
      "text/plain": [
       "{'matches': [{'id': 'vec4',\n",
       "              'metadata': {'genre': 'drama'},\n",
       "              'score': 0.990372956,\n",
       "              'values': [1.0, 2.5, 3.5]},\n",
       "             {'id': 'vec1',\n",
       "              'metadata': {'genre': 'drama'},\n",
       "              'score': 0.961182,\n",
       "              'values': [1.0, 1.5, 2.0]}],\n",
       " 'namespace': 'embedding-3d-nsl',\n",
       " 'usage': {'read_units': 1}}"
      ]
     },
     "execution_count": 13,
     "metadata": {},
     "output_type": "execute_result"
    }
   ],
   "source": [
    "response = index.query(\n",
    "    namespace='embedding-3d-nsl',\n",
    "    vector=[0.1, 0.4, 0.7],\n",
    "    top_k=3,\n",
    "    include_values=True,\n",
    "    include_metadata=True,\n",
    "    filter={'genre': {'$eq':'drama'}}\n",
    ")\n",
    "response"
   ]
  },
  {
   "cell_type": "code",
   "execution_count": 71,
   "id": "396633dd",
   "metadata": {},
   "outputs": [
    {
     "name": "stdout",
     "output_type": "stream",
     "text": [
      "['vec1', 'vec2', 'vec3', 'vec4', 'vec5', 'vec6']\n"
     ]
    }
   ],
   "source": [
    "ns = 'embedding-3d-nsl'\n",
    "for ids in index.list(namespace=ns):\n",
    "  print(ids)"
   ]
  },
  {
   "cell_type": "markdown",
   "id": "4f6e5fc6",
   "metadata": {},
   "source": [
    "# fetch"
   ]
  },
  {
   "cell_type": "code",
   "execution_count": 72,
   "id": "8048df8d",
   "metadata": {},
   "outputs": [
    {
     "data": {
      "text/plain": [
       "FetchResponse(namespace='embedding-3d-nsl', vectors={'vec1': Vector(id='vec1', values=[1.0, 1.5, 2.0], metadata={'genre': 'drama'}, sparse_values=None), 'vec2': Vector(id='vec2', values=[2.0, 1.5, 0.5], metadata={'genre': 'action'}, sparse_values=None), 'vec3': Vector(id='vec3', values=[0.1, 1.5, 2.0], metadata={'genre': 'comic'}, sparse_values=None), 'vec6': Vector(id='vec6', values=[0.3, 1.1, 2.5], metadata={'genre': 'comic'}, sparse_values=None), 'vec4': Vector(id='vec4', values=[1.0, 2.5, 3.5], metadata={'genre': 'drama'}, sparse_values=None), 'vec5': Vector(id='vec5', values=[3.0, 1.2, 1.3], metadata={'genre': 'action'}, sparse_values=None)}, usage={'read_units': 1})"
      ]
     },
     "execution_count": 72,
     "metadata": {},
     "output_type": "execute_result"
    }
   ],
   "source": [
    "from itertools import chain\n",
    "all_ids = list(chain.from_iterable(index.list(namespace=ns)))\n",
    "resp = index.fetch(ids=all_ids, namespace=ns)\n",
    "resp"
   ]
  },
  {
   "cell_type": "code",
   "execution_count": 73,
   "id": "ec6f2e09",
   "metadata": {},
   "outputs": [
    {
     "data": {
      "text/plain": [
       "['vec1', 'vec2', 'vec3', 'vec4', 'vec5', 'vec6']"
      ]
     },
     "execution_count": 73,
     "metadata": {},
     "output_type": "execute_result"
    }
   ],
   "source": [
    "all_ids"
   ]
  },
  {
   "cell_type": "code",
   "execution_count": 74,
   "id": "faddc7e1",
   "metadata": {},
   "outputs": [
    {
     "data": {
      "text/plain": [
       "{'vec1': Vector(id='vec1', values=[1.0, 1.5, 2.0], metadata={'genre': 'drama'}, sparse_values=None),\n",
       " 'vec2': Vector(id='vec2', values=[2.0, 1.5, 0.5], metadata={'genre': 'action'}, sparse_values=None),\n",
       " 'vec3': Vector(id='vec3', values=[0.1, 1.5, 2.0], metadata={'genre': 'comic'}, sparse_values=None),\n",
       " 'vec6': Vector(id='vec6', values=[0.3, 1.1, 2.5], metadata={'genre': 'comic'}, sparse_values=None),\n",
       " 'vec4': Vector(id='vec4', values=[1.0, 2.5, 3.5], metadata={'genre': 'drama'}, sparse_values=None),\n",
       " 'vec5': Vector(id='vec5', values=[3.0, 1.2, 1.3], metadata={'genre': 'action'}, sparse_values=None)}"
      ]
     },
     "execution_count": 74,
     "metadata": {},
     "output_type": "execute_result"
    }
   ],
   "source": [
    "resp.vectors"
   ]
  },
  {
   "cell_type": "code",
   "execution_count": 75,
   "id": "a4386d59",
   "metadata": {},
   "outputs": [],
   "source": [
    "for vid, v in resp.vectors.items():\n",
    "  vid, v.values"
   ]
  },
  {
   "cell_type": "markdown",
   "id": "5455e8f3",
   "metadata": {},
   "source": [
    "# page - 1개 벡터씩 꺼내기"
   ]
  },
  {
   "cell_type": "code",
   "execution_count": 76,
   "id": "f1eb156f",
   "metadata": {},
   "outputs": [
    {
     "name": "stdout",
     "output_type": "stream",
     "text": [
      "* ['vec1', 'vec2', 'vec3', 'vec4', 'vec5', 'vec6']\n",
      "vec4 [1.0, 2.5, 3.5]\n",
      "vec1 [1.0, 1.5, 2.0]\n",
      "vec5 [3.0, 1.2, 1.3]\n",
      "vec2 [2.0, 1.5, 0.5]\n",
      "vec6 [0.3, 1.1, 2.5]\n",
      "vec3 [0.1, 1.5, 2.0]\n"
     ]
    }
   ],
   "source": [
    "for id_page in index.list(namespace=ns):\n",
    "  print('*',id_page)\n",
    "  resp = index.fetch(ids=id_page, namespace=ns)\n",
    "  for vid, v in resp.vectors.items():\n",
    "    print(vid, v.values)"
   ]
  },
  {
   "cell_type": "markdown",
   "id": "2fe1b3ac",
   "metadata": {},
   "source": [
    "# 새로운 쿼리벡터 추가하기"
   ]
  },
  {
   "cell_type": "code",
   "execution_count": 77,
   "id": "a612ff77",
   "metadata": {},
   "outputs": [],
   "source": [
    "ids = list(resp.vectors.keys())\n",
    "values = [vec.values for vec in resp.vectors.values()]"
   ]
  },
  {
   "cell_type": "code",
   "execution_count": 78,
   "id": "2e25d873",
   "metadata": {},
   "outputs": [],
   "source": [
    "ids.append('qv')\n",
    "values.append([0.1,0.3,0.7]) #dimension 일치"
   ]
  },
  {
   "cell_type": "markdown",
   "id": "ed9874f8",
   "metadata": {},
   "source": [
    "# 시각화"
   ]
  },
  {
   "cell_type": "code",
   "execution_count": 79,
   "id": "d2476f14",
   "metadata": {},
   "outputs": [
    {
     "data": {
      "image/png": "[encoded data removed]",
      "text/plain": [
       "<Figure size 640x480 with 1 Axes>"
      ]
     },
     "metadata": {},
     "output_type": "display_data"
    }
   ],
   "source": [
    "import matplotlib.pyplot as plt\n",
    "\n",
    "# 3D 플롯을 생성합니다.\n",
    "fig = plt.figure()\n",
    "ax = fig.add_subplot(111, projection='3d')\n",
    "\n",
    "# 각 벡터의 ID와 값을 사용하여 3D 공간에 점을 그립니다.\n",
    "for i, id in enumerate(ids):\n",
    "    if id == \"qv\":\n",
    "        # 쿼리 벡터는 노란색 사각형으로 표시합니다.\n",
    "        ax.scatter(values[i][0], values[i][1], values[i][2], label=id, color='y', s=50, marker='s')\n",
    "        ax.text(values[i][0] + 0.1, values[i][1] + 0.1, values[i][2] + 0.1, id)\n",
    "    else:\n",
    "        # 나머지 벡터는 기본 색상으로 표시합니다.\n",
    "        ax.scatter(values[i][0], values[i][1], values[i][2], label=id)\n",
    "        ax.text(values[i][0] + 0.1, values[i][1] + 0.1, values[i][2] + 0.1, id)\n",
    "\n",
    "# 축 레이블과 제목을 설정합니다.\n",
    "ax.set_xlabel('X')\n",
    "ax.set_ylabel('Y')\n",
    "ax.set_zlabel('Z')\n",
    "ax.set_title('Embedding Vector Space')\n",
    "\n",
    "# 플롯을 표시합니다.\n",
    "plt.show()"
   ]
  },
  {
   "cell_type": "markdown",
   "id": "6929b280",
   "metadata": {},
   "source": [
    "# 임베딩 미션"
   ]
  },
  {
   "cell_type": "markdown",
   "id": "482dc39e",
   "metadata": {},
   "source": [
    "name: \"quickstart\" 서버리스 인덱스 생성    \n",
    "dim: 1024,"
   ]
  },
  {
   "cell_type": "code",
   "execution_count": 91,
   "id": "1382261a",
   "metadata": {},
   "outputs": [],
   "source": [
    "data = [\n",
    "    {\"id\": \"vec1\", \"text\": \"사과는 달콤하고 아삭한 식감으로 유명한 인기 있는 과일입니다.\"},\n",
    "    {\"id\": \"vec2\", \"text\": \"애플이라는 기술 회사는 아이폰과 같은 혁신적인 제품으로 유명합니다.\"},\n",
    "    {\"id\": \"vec3\", \"text\": \"많은 사람들이 건강한 간식으로 사과를 즐겨 먹습니다.\"},\n",
    "    {\"id\": \"vec4\", \"text\": \"애플 주식회사는 세련된 디자인과 사용자 친화적인 인터페이스로 기술 산업을 혁신했습니다.\"},\n",
    "    {\"id\": \"vec5\", \"text\": \"하루에 사과 하나면 의사를 멀리할 수 있다는 속담이 있습니다.\"},\n",
    "    {\"id\": \"vec6\", \"text\": \"애플 컴퓨터 회사는 1976년 4월 1일 스티브 잡스, 스티브 워즈니악, 로널드 웨인에 의해 파트너십으로 설립되었습니다.\"},\n",
    "    {\"id\": \"vec8\", \"text\": \"애플은 세계에서 가장 높은 브랜드 가치를 가진 기업 중 하나로 평가받고 있습니다.\"},\n",
    "    {\"id\": \"vec9\", \"text\": \"아이폰은 애플이 출시한 대표적인 스마트폰으로 전 세계적으로 큰 인기를 끌고 있습니다.\"},\n",
    "    {\"id\": \"vec10\", \"text\": \"애플의 맥북 시리즈는 세련된 디자인과 강력한 성능으로 많은 전문가들이 사용합니다.\"},\n",
    "    {\"id\": \"vec11\", \"text\": \"애플워치는 건강 관리와 피트니스 기능으로 스마트워치 시장을 선도하고 있습니다.\"},\n",
    "    {\"id\": \"vec12\", \"text\": \"애플은 자사 생태계 내 기기들 간의 높은 호환성과 연동성을 강점으로 내세웁니다.\"},\n",
    "    {\"id\": \"vec13\", \"text\": \"애플의 앱스토어는 전 세계 개발자들이 만든 수많은 앱을 제공하는 플랫폼입니다.\"},\n",
    "    {\"id\": \"vec14\", \"text\": \"애플은 프라이버시 보호를 핵심 가치로 삼아 사용자 데이터를 안전하게 관리합니다.\"},\n",
    "    {\"id\": \"vec15\", \"text\": \"스티브 잡스는 애플의 공동 창업자로 혁신적인 비전을 통해 회사를 세계적 기업으로 성장시켰습니다.\"}\n",
    "\n",
    "]"
   ]
  },
  {
   "cell_type": "markdown",
   "id": "666cc447",
   "metadata": {},
   "source": [
    "임베딩 모델 : multilingual-e5-large   \n",
    "upsert()   \n",
    "describe_index_stats()   \n",
    "query_vector : \"애플이라는 기술 회사에 대해 알려주세요.\"    \n",
    "index.query()"
   ]
  },
  {
   "cell_type": "code",
   "execution_count": 95,
   "id": "b11e9b74",
   "metadata": {},
   "outputs": [
    {
     "data": {
      "text/plain": [
       "{'vector_type': dense, 'values': [0.0301055908203125, -0.0206298828125, ..., -0.0303802490234375, 0.0241546630859375]}"
      ]
     },
     "execution_count": 95,
     "metadata": {},
     "output_type": "execute_result"
    }
   ],
   "source": [
    "embeddings = pinecone_client.inference.embed(\n",
    "    model=\"multilingual-e5-large\",\n",
    "    inputs=[d[\"text\"] for d in data],\n",
    "    parameters={\"input_type\": \"passage\", \"truncate\": \"END\"}\n",
    ")\n",
    "\n",
    "embeddings[0]"
   ]
  },
  {
   "cell_type": "code",
   "execution_count": 88,
   "id": "a8e9f40b",
   "metadata": {},
   "outputs": [
    {
     "data": {
      "text/plain": [
       "{\n",
       "    \"name\": \"quickstart\",\n",
       "    \"metric\": \"cosine\",\n",
       "    \"host\": \"quickstart-147ea7t.svc.aped-4627-b74a.pinecone.io\",\n",
       "    \"spec\": {\n",
       "        \"serverless\": {\n",
       "            \"cloud\": \"aws\",\n",
       "            \"region\": \"us-east-1\"\n",
       "        }\n",
       "    },\n",
       "    \"status\": {\n",
       "        \"ready\": true,\n",
       "        \"state\": \"Ready\"\n",
       "    },\n",
       "    \"vector_type\": \"dense\",\n",
       "    \"dimension\": 1024,\n",
       "    \"deletion_protection\": \"disabled\",\n",
       "    \"tags\": null\n",
       "}"
      ]
     },
     "execution_count": 88,
     "metadata": {},
     "output_type": "execute_result"
    }
   ],
   "source": [
    "from pinecone import ServerlessSpec\n",
    "\n",
    "pinecone_client.create_index(\n",
    "    name='quickstart',\n",
    "    dimension=1024,\n",
    "    metric='cosine',\n",
    "    spec=ServerlessSpec(\n",
    "        cloud='aws',\n",
    "        region='us-east-1'\n",
    "    )\n",
    ")"
   ]
  },
  {
   "cell_type": "code",
   "execution_count": 89,
   "id": "58a12880",
   "metadata": {},
   "outputs": [],
   "source": [
    "index = pinecone_client.Index(\"quickstart\")"
   ]
  },
  {
   "cell_type": "code",
   "execution_count": 93,
   "id": "a2eea2f4",
   "metadata": {},
   "outputs": [
    {
     "data": {
      "text/plain": [
       "{'dimension': 1024,\n",
       " 'index_fullness': 0.0,\n",
       " 'metric': 'cosine',\n",
       " 'namespaces': {},\n",
       " 'total_vector_count': 0,\n",
       " 'vector_type': 'dense'}"
      ]
     },
     "execution_count": 93,
     "metadata": {},
     "output_type": "execute_result"
    }
   ],
   "source": [
    "index.describe_index_stats()"
   ]
  },
  {
   "cell_type": "code",
   "execution_count": 97,
   "id": "e4fe8ea9",
   "metadata": {},
   "outputs": [
    {
     "name": "stderr",
     "output_type": "stream",
     "text": [
      "The cache for model files in Transformers v4.22.0 has been updated. Migrating your old cache. This is a one-time only operation. You can interrupt this and resume the migration later on by calling `transformers.utils.move_cache()`.\n",
      "0it [00:00, ?it/s]\n",
      "c:\\Users\\LENOVO\\miniconda3\\envs\\prompting_env\\Lib\\site-packages\\huggingface_hub\\file_download.py:143: UserWarning: `huggingface_hub` cache-system uses symlinks by default to efficiently store duplicated files but your machine does not support them in C:\\Users\\LENOVO\\.cache\\huggingface\\hub\\models--intfloat--multilingual-e5-large. Caching files will still work but in a degraded version that might require more space on your disk. This warning can be disabled by setting the `HF_HUB_DISABLE_SYMLINKS_WARNING` environment variable. For more details, see https://huggingface.co/docs/huggingface_hub/how-to-cache#limitations.\n",
      "To support symlinks on Windows, you either need to activate Developer Mode or to run Python as an administrator. In order to activate developer mode, see this article: https://docs.microsoft.com/en-us/windows/apps/get-started/enable-your-device-for-development\n",
      "  warnings.warn(message)\n",
      "Xet Storage is enabled for this repo, but the 'hf_xet' package is not installed. Falling back to regular HTTP download. For better performance, install the package with: `pip install huggingface_hub[hf_xet]` or `pip install hf_xet`\n",
      "Xet Storage is enabled for this repo, but the 'hf_xet' package is not installed. Falling back to regular HTTP download. For better performance, install the package with: `pip install huggingface_hub[hf_xet]` or `pip install hf_xet`\n",
      "Xet Storage is enabled for this repo, but the 'hf_xet' package is not installed. Falling back to regular HTTP download. For better performance, install the package with: `pip install huggingface_hub[hf_xet]` or `pip install hf_xet`\n"
     ]
    }
   ],
   "source": [
    "from sentence_transformers import SentenceTransformer\n",
    "\n",
    "# multilingual-e5-large 임베딩 모델 불러오기\n",
    "model = SentenceTransformer(\"intfloat/multilingual-e5-large\")"
   ]
  },
  {
   "cell_type": "code",
   "execution_count": 99,
   "id": "7f66dfe4",
   "metadata": {},
   "outputs": [],
   "source": [
    "vectors = []\n",
    "for item in data:\n",
    "    embedding = model.encode(item[\"text\"]).tolist()\n",
    "    vectors.append({\n",
    "        \"id\": item[\"id\"],\n",
    "        \"values\": embedding,\n",
    "        \"metadata\": {\"text\": item[\"text\"]}\n",
    "    })\n"
   ]
  },
  {
   "cell_type": "code",
   "execution_count": 100,
   "id": "a2a090da",
   "metadata": {},
   "outputs": [
    {
     "name": "stdout",
     "output_type": "stream",
     "text": [
      "vec1\n",
      "1024\n",
      "[0.031203143298625946, -0.011677904985845089, 0.006053735967725515, -0.028356090188026428, 0.02643781341612339, -0.04365314915776253, -0.0072122965939342976, 0.07913167774677277, 0.02140863798558712, -0.01638714224100113]\n"
     ]
    }
   ],
   "source": [
    "print(vectors[0][\"id\"])\n",
    "print(len(vectors[0][\"values\"]))\n",
    "print(vectors[0][\"values\"][:10]) "
   ]
  },
  {
   "cell_type": "code",
   "execution_count": 101,
   "id": "7e3384da",
   "metadata": {},
   "outputs": [
    {
     "data": {
      "text/plain": [
       "{'upserted_count': 14}"
      ]
     },
     "execution_count": 101,
     "metadata": {},
     "output_type": "execute_result"
    }
   ],
   "source": [
    "index.upsert(vectors=vectors)"
   ]
  },
  {
   "cell_type": "code",
   "execution_count": 103,
   "id": "707c1d55",
   "metadata": {},
   "outputs": [
    {
     "name": "stdout",
     "output_type": "stream",
     "text": [
      "1024\n"
     ]
    }
   ],
   "source": [
    "print(len(vectors[0][\"values\"]))"
   ]
  },
  {
   "cell_type": "code",
   "execution_count": null,
   "id": "a7500838",
   "metadata": {},
   "outputs": [
    {
     "name": "stdout",
     "output_type": "stream",
     "text": [
      "ID: vec2, Score: 0.9059\n",
      "Text: 애플이라는 기술 회사는 아이폰과 같은 혁신적인 제품으로 유명합니다.\n",
      "--------------------------------------------------\n",
      "ID: vec4, Score: 0.8865\n",
      "Text: 애플 주식회사는 세련된 디자인과 사용자 친화적인 인터페이스로 기술 산업을 혁신했습니다.\n",
      "--------------------------------------------------\n",
      "ID: vec8, Score: 0.8573\n",
      "Text: 애플은 세계에서 가장 높은 브랜드 가치를 가진 기업 중 하나로 평가받고 있습니다.\n",
      "--------------------------------------------------\n",
      "ID: vec6, Score: 0.8537\n",
      "Text: 애플 컴퓨터 회사는 1976년 4월 1일 스티브 잡스, 스티브 워즈니악, 로널드 웨인에 의해 파트너십으로 설립되었습니다.\n",
      "--------------------------------------------------\n",
      "ID: vec9, Score: 0.8529\n",
      "Text: 아이폰은 애플이 출시한 대표적인 스마트폰으로 전 세계적으로 큰 인기를 끌고 있습니다.\n",
      "--------------------------------------------------\n"
     ]
    }
   ],
   "source": [
    "# data 불러오기\n",
    "query_text = \"애플이라는 기술 회사에 대해 알려주세요.\"\n",
    "query_vector = model.encode(query_text).tolist()\n",
    "\n",
    "result = index.query(\n",
    "    vector=query_vector,\n",
    "    top_k=5,\n",
    "    include_metadata=True\n",
    ")\n",
    "\n",
    "for match in result[\"matches\"]:\n",
    "    print(f\"ID: {match['id']}, Score: {match['score']:.4f}\")\n",
    "    print(f\"Text: {match['metadata']['text']}\")\n",
    "    print(\"-\" * 50)\n"
   ]
  }
 ],
 "metadata": {
  "kernelspec": {
   "display_name": "prompting_env",
   "language": "python",
   "name": "python3"
  },
  "language_info": {
   "codemirror_mode": {
    "name": "ipython",
    "version": 3
   },
   "file_extension": ".py",
   "mimetype": "text/x-python",
   "name": "python",
   "nbconvert_exporter": "python",
   "pygments_lexer": "ipython3",
   "version": "3.12.11"
  }
 },
 "nbformat": 4,
 "nbformat_minor": 5
}
