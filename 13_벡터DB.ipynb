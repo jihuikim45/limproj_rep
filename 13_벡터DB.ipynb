{
 "cells": [
  {
   "cell_type": "code",
   "execution_count": 1,
   "id": "f266c2a1",
   "metadata": {},
   "outputs": [],
   "source": [
    "from dotenv import load_dotenv\n",
    "import os\n",
    "\n",
    "load_dotenv()\n",
    "PINECONE_API_KEY = os.environ['PINECONE_API_KEY']\n"
   ]
  },
  {
   "cell_type": "markdown",
   "id": "17bfdf6d",
   "metadata": {},
   "source": [
    "# index 생성"
   ]
  },
  {
   "cell_type": "code",
   "execution_count": 2,
   "id": "f73b590a",
   "metadata": {},
   "outputs": [],
   "source": [
    "from pinecone import Pinecone\n",
    "#클라이언트 생성\n",
    "pinecone_client = Pinecone(api_key=PINECONE_API_KEY)"
   ]
  },
  {
   "cell_type": "code",
   "execution_count": 3,
   "id": "512a44eb",
   "metadata": {},
   "outputs": [
    {
     "data": {
      "text/plain": [
       "<pinecone.pinecone.Pinecone at 0x1641c81f350>"
      ]
     },
     "execution_count": 3,
     "metadata": {},
     "output_type": "execute_result"
    }
   ],
   "source": [
    "pinecone_client"
   ]
  },
  {
   "cell_type": "code",
   "execution_count": 4,
   "id": "52d77c3c",
   "metadata": {},
   "outputs": [
    {
     "data": {
      "text/plain": [
       "{\n",
       "    \"name\": \"embedding-3d\",\n",
       "    \"metric\": \"cosine\",\n",
       "    \"host\": \"embedding-3d-147ea7t.svc.aped-4627-b74a.pinecone.io\",\n",
       "    \"spec\": {\n",
       "        \"serverless\": {\n",
       "            \"cloud\": \"aws\",\n",
       "            \"region\": \"us-east-1\"\n",
       "        }\n",
       "    },\n",
       "    \"status\": {\n",
       "        \"ready\": true,\n",
       "        \"state\": \"Ready\"\n",
       "    },\n",
       "    \"vector_type\": \"dense\",\n",
       "    \"dimension\": 3,\n",
       "    \"deletion_protection\": \"disabled\",\n",
       "    \"tags\": null\n",
       "}"
      ]
     },
     "execution_count": 4,
     "metadata": {},
     "output_type": "execute_result"
    }
   ],
   "source": [
    "from pinecone import ServerlessSpec\n",
    "pinecone_client.create_index(\n",
    "    name='embedding-3d',\n",
    "    dimension=3,\n",
    "    metric='cosine',\n",
    "    spec=ServerlessSpec(\n",
    "        cloud='aws',\n",
    "        region='us-east-1'\n",
    "    )\n",
    ")"
   ]
  },
  {
   "cell_type": "code",
   "execution_count": 5,
   "id": "48f3f47c",
   "metadata": {},
   "outputs": [
    {
     "name": "stderr",
     "output_type": "stream",
     "text": [
      "c:\\Users\\LENOVO\\miniconda3\\envs\\prompting_env\\Lib\\site-packages\\tqdm\\auto.py:21: TqdmWarning: IProgress not found. Please update jupyter and ipywidgets. See https://ipywidgets.readthedocs.io/en/stable/user_install.html\n",
      "  from .autonotebook import tqdm as notebook_tqdm\n"
     ]
    },
    {
     "data": {
      "text/plain": [
       "<pinecone.db_data.index.Index at 0x1641cac9280>"
      ]
     },
     "execution_count": 5,
     "metadata": {},
     "output_type": "execute_result"
    }
   ],
   "source": [
    "index = pinecone_client.Index('embedding-3d')\n",
    "index"
   ]
  },
  {
   "cell_type": "code",
   "execution_count": 6,
   "id": "0718e925",
   "metadata": {},
   "outputs": [
    {
     "data": {
      "text/plain": [
       "{'dimension': 3,\n",
       " 'index_fullness': 0.0,\n",
       " 'metric': 'cosine',\n",
       " 'namespaces': {},\n",
       " 'total_vector_count': 0,\n",
       " 'vector_type': 'dense'}"
      ]
     },
     "execution_count": 6,
     "metadata": {},
     "output_type": "execute_result"
    }
   ],
   "source": [
    "index.describe_index_stats()"
   ]
  },
  {
   "cell_type": "code",
   "execution_count": 7,
   "id": "03c77077",
   "metadata": {},
   "outputs": [],
   "source": [
    "for ids in index.list(namespace='embedding-3d-nsl'):\n",
    "    print(ids)"
   ]
  },
  {
   "cell_type": "markdown",
   "id": "5676fe12",
   "metadata": {},
   "source": [
    "# pinecone data 형식\n",
    "[{'id' : 'vec1' , 'values' :[1.0,1.5,2.0] , metadata' : {'genre':'drama'}},\n",
    "{'id' : 'vec1' , 'values' :[2.0,1.5,0.5] , metadata' : {'genre':'action'}},\n",
    "{'id' : 'vec1' , 'values' :[0.1,1.5,2.0] , metadata' : {'genre':'comic'}},\n",
    "{'id' : 'vec1' , 'values' :[1.0,2.5,3.5] , metadata' : {'genre':'drama'}},\n",
    "{'id' : 'vec1' , 'values' :[3.0,1.2,1.3] , metadata' : {'genre':'action'}},\n",
    "{'id' : 'vec1' , 'values' :[0.3,1.1,2.5] , metadata' : {'genre':'comic'}}\n",
    "]"
   ]
  },
  {
   "cell_type": "code",
   "execution_count": 9,
   "id": "864a02dd",
   "metadata": {},
   "outputs": [
    {
     "data": {
      "text/plain": [
       "{'upserted_count': 6}"
      ]
     },
     "execution_count": 9,
     "metadata": {},
     "output_type": "execute_result"
    }
   ],
   "source": [
    "index.upsert(\n",
    "    vectors=[\n",
    "        {'id': 'vec1', 'values': [1.0, 1.5, 2.0], 'metadata': {'genre': 'drama'}},\n",
    "        {'id': 'vec2', 'values': [2.0, 1.5, 0.5], 'metadata': {'genre': 'action'}},\n",
    "        {'id': 'vec3', 'values': [0.1, 1.5, 2.0], 'metadata': {'genre': 'comic'}},\n",
    "        {'id': 'vec4', 'values': [1.0, 2.5, 3.5], 'metadata': {'genre': 'drama'}},\n",
    "        {'id': 'vec5', 'values': [3.0, 1.2, 1.3], 'metadata': {'genre': 'action'}},\n",
    "        {'id': 'vec6', 'values': [0.3, 1.1, 2.5], 'metadata': {'genre': 'comic'}}\n",
    "    ],\n",
    "    namespace='embedding-3d-nsl'\n",
    ")\n"
   ]
  },
  {
   "cell_type": "code",
   "execution_count": 10,
   "id": "06dd654b",
   "metadata": {},
   "outputs": [
    {
     "data": {
      "text/plain": [
       "{'dimension': 3,\n",
       " 'index_fullness': 0.0,\n",
       " 'metric': 'cosine',\n",
       " 'namespaces': {'embedding-3d-nsl': {'vector_count': 6}},\n",
       " 'total_vector_count': 6,\n",
       " 'vector_type': 'dense'}"
      ]
     },
     "execution_count": 10,
     "metadata": {},
     "output_type": "execute_result"
    }
   ],
   "source": [
    "index.describe_index_stats()"
   ]
  },
  {
   "cell_type": "markdown",
   "id": "2735dc5e",
   "metadata": {},
   "source": [
    "# id list"
   ]
  },
  {
   "cell_type": "code",
   "execution_count": 11,
   "id": "16ec034a",
   "metadata": {},
   "outputs": [
    {
     "name": "stdout",
     "output_type": "stream",
     "text": [
      "['vec1', 'vec2', 'vec3', 'vec4', 'vec5', 'vec6']\n"
     ]
    }
   ],
   "source": [
    "for ids in index.list(namespace='embedding-3d-nsl'):\n",
    "    print(ids)"
   ]
  },
  {
   "cell_type": "markdown",
   "id": "ac97ed22",
   "metadata": {},
   "source": [
    "# query"
   ]
  },
  {
   "cell_type": "code",
   "execution_count": 13,
   "id": "7521f985",
   "metadata": {},
   "outputs": [
    {
     "data": {
      "text/plain": [
       "{'matches': [{'id': 'vec4',\n",
       "              'metadata': {'genre': 'drama'},\n",
       "              'score': 0.990372956,\n",
       "              'values': [1.0, 2.5, 3.5]},\n",
       "             {'id': 'vec1',\n",
       "              'metadata': {'genre': 'drama'},\n",
       "              'score': 0.961182,\n",
       "              'values': [1.0, 1.5, 2.0]}],\n",
       " 'namespace': 'embedding-3d-nsl',\n",
       " 'usage': {'read_units': 1}}"
      ]
     },
     "execution_count": 13,
     "metadata": {},
     "output_type": "execute_result"
    }
   ],
   "source": [
    "response = index.query(\n",
    "    namespace='embedding-3d-nsl',\n",
    "    vector=[0.1, 0.4, 0.7],\n",
    "    top_k=3,\n",
    "    include_values=True,\n",
    "    include_metadata=True,\n",
    "    filter={'genre': {'$eq':'drama'}}\n",
    ")\n",
    "response"
   ]
  },
  {
   "cell_type": "code",
   "execution_count": null,
   "id": "396633dd",
   "metadata": {},
   "outputs": [],
   "source": []
  },
  {
   "cell_type": "code",
   "execution_count": null,
   "id": "8048df8d",
   "metadata": {},
   "outputs": [],
   "source": []
  },
  {
   "cell_type": "code",
   "execution_count": null,
   "id": "faddc7e1",
   "metadata": {},
   "outputs": [],
   "source": []
  }
 ],
 "metadata": {
  "kernelspec": {
   "display_name": "prompting_env",
   "language": "python",
   "name": "python3"
  },
  "language_info": {
   "codemirror_mode": {
    "name": "ipython",
    "version": 3
   },
   "file_extension": ".py",
   "mimetype": "text/x-python",
   "name": "python",
   "nbconvert_exporter": "python",
   "pygments_lexer": "ipython3",
   "version": "3.12.11"
  }
 },
 "nbformat": 4,
 "nbformat_minor": 5
}
