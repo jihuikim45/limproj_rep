{
 "cells": [
  {
   "cell_type": "markdown",
   "id": "743de8ea",
   "metadata": {},
   "source": [
    "# prompt template"
   ]
  },
  {
   "cell_type": "code",
   "execution_count": 5,
   "id": "ad9b641d",
   "metadata": {},
   "outputs": [
    {
     "data": {
      "text/plain": [
       "'0.3.27'"
      ]
     },
     "execution_count": 5,
     "metadata": {},
     "output_type": "execute_result"
    }
   ],
   "source": [
    "import langchain\n",
    "langchain.__version__"
   ]
  },
  {
   "cell_type": "code",
   "execution_count": 6,
   "id": "f930edc1",
   "metadata": {},
   "outputs": [
    {
     "data": {
      "text/plain": [
       "ChatOpenAI(client=<openai.resources.chat.completions.completions.Completions object at 0x00000258D9C74290>, async_client=<openai.resources.chat.completions.completions.AsyncCompletions object at 0x00000258D9DF21E0>, root_client=<openai.OpenAI object at 0x00000258D7B1E210>, root_async_client=<openai.AsyncOpenAI object at 0x00000258D9C74350>, model_name='gpt-4o-mini', model_kwargs={}, openai_api_key=SecretStr('**********'))"
      ]
     },
     "execution_count": 6,
     "metadata": {},
     "output_type": "execute_result"
    }
   ],
   "source": [
    "from langchain_openai import ChatOpenAI\n",
    "llm = ChatOpenAI(model='gpt-4o-mini')\n",
    "llm"
   ]
  },
  {
   "cell_type": "code",
   "execution_count": 7,
   "id": "1cdc4754",
   "metadata": {},
   "outputs": [
    {
     "data": {
      "text/plain": [
       "'서울에서 유명한 맛집을 알려주세요'"
      ]
     },
     "execution_count": 7,
     "metadata": {},
     "output_type": "execute_result"
    }
   ],
   "source": [
    "from langchain.prompts import PromptTemplate\n",
    "template = PromptTemplate.from_template(\"{city}에서 {adj} {topic}을 알려주세요\")\n",
    "prompt = template.format(city='서울', adj='유명한', topic = '맛집')\n",
    "prompt"
   ]
  },
  {
   "cell_type": "code",
   "execution_count": 8,
   "id": "98493113",
   "metadata": {},
   "outputs": [
    {
     "data": {
      "text/plain": [
       "AIMessage(content=\"서울에는 다양한 맛집이 많아 선택하기 어렵지만, 몇 군데 추천해드릴게요.\\n\\n1. **광장시장** - 전통시장에서 다양한 길거리 음식을 맛볼 수 있습니다. 특히 빈대떡과 마약김밥이 유명합니다.\\n\\n2. **부암동 골목식당** - 아기자기한 카페와 맛집들이 많은 곳으로, 특히 한식집인 '국수집'과 '김치찌개'가 인기가 많습니다.\\n\\n3. **삼청동 수제비** - 수제비와 칼국수가 유명한 집으로, 쫄깃한 면발과 진한 국물 맛이 일품입니다.\\n\\n4. **명동교자** - 칼국수와 만두가 유명한 맛집으로, 특히 칼국수의 진한 국물 맛이 많은 사람들에게 사랑받고 있습니다.\\n\\n5. **뚝배기집** - 전통 한식으로 유명한 뚝배기 전골 전문점으로, 고기와 신선한 재료가 조화를 이루는 맛있는 전골을 제공합니다.\\n\\n이 밖에도 서울에는 숨겨진 맛집들이 많이 있으니, 탐방하면서 새로운 맛을 찾아보는 것도 좋습니다!\", additional_kwargs={'refusal': None}, response_metadata={'token_usage': {'completion_tokens': 272, 'prompt_tokens': 16, 'total_tokens': 288, 'completion_tokens_details': {'accepted_prediction_tokens': 0, 'audio_tokens': 0, 'reasoning_tokens': 0, 'rejected_prediction_tokens': 0}, 'prompt_tokens_details': {'audio_tokens': 0, 'cached_tokens': 0}}, 'model_name': 'gpt-4o-mini-2024-07-18', 'system_fingerprint': 'fp_8bda4d3a2c', 'id': 'chatcmpl-CDLvwqdFvveCESzgKmUBrXaCViLUf', 'service_tier': 'default', 'finish_reason': 'stop', 'logprobs': None}, id='run--e396d47a-ce47-4c92-9d90-bc19bd2c513b-0', usage_metadata={'input_tokens': 16, 'output_tokens': 272, 'total_tokens': 288, 'input_token_details': {'audio': 0, 'cache_read': 0}, 'output_token_details': {'audio': 0, 'reasoning': 0}})"
      ]
     },
     "execution_count": 8,
     "metadata": {},
     "output_type": "execute_result"
    }
   ],
   "source": [
    "response = llm.invoke(prompt)\n",
    "response"
   ]
  },
  {
   "cell_type": "code",
   "execution_count": 9,
   "id": "aa45fe67",
   "metadata": {},
   "outputs": [
    {
     "data": {
      "text/plain": [
       "\"서울에는 다양한 맛집이 많아 선택하기 어렵지만, 몇 군데 추천해드릴게요.\\n\\n1. **광장시장** - 전통시장에서 다양한 길거리 음식을 맛볼 수 있습니다. 특히 빈대떡과 마약김밥이 유명합니다.\\n\\n2. **부암동 골목식당** - 아기자기한 카페와 맛집들이 많은 곳으로, 특히 한식집인 '국수집'과 '김치찌개'가 인기가 많습니다.\\n\\n3. **삼청동 수제비** - 수제비와 칼국수가 유명한 집으로, 쫄깃한 면발과 진한 국물 맛이 일품입니다.\\n\\n4. **명동교자** - 칼국수와 만두가 유명한 맛집으로, 특히 칼국수의 진한 국물 맛이 많은 사람들에게 사랑받고 있습니다.\\n\\n5. **뚝배기집** - 전통 한식으로 유명한 뚝배기 전골 전문점으로, 고기와 신선한 재료가 조화를 이루는 맛있는 전골을 제공합니다.\\n\\n이 밖에도 서울에는 숨겨진 맛집들이 많이 있으니, 탐방하면서 새로운 맛을 찾아보는 것도 좋습니다!\""
      ]
     },
     "execution_count": 9,
     "metadata": {},
     "output_type": "execute_result"
    }
   ],
   "source": [
    "response.content"
   ]
  },
  {
   "cell_type": "code",
   "execution_count": 10,
   "id": "c2934415",
   "metadata": {},
   "outputs": [],
   "source": [
    "template.save('restaurant_tour_prompt.json')"
   ]
  },
  {
   "cell_type": "code",
   "execution_count": 11,
   "id": "9eb48c55",
   "metadata": {},
   "outputs": [
    {
     "data": {
      "text/plain": [
       "'부산에서 가장 멋진 박물관을 알려주세요'"
      ]
     },
     "execution_count": 11,
     "metadata": {},
     "output_type": "execute_result"
    }
   ],
   "source": [
    "from langchain.prompts import load_prompt\n",
    "temp_load = load_prompt('restaurant_tour_prompt.json')\n",
    "prompt = temp_load.format(city='부산', adj='가장 멋진', topic='박물관')\n",
    "prompt"
   ]
  },
  {
   "cell_type": "markdown",
   "id": "e79fa049",
   "metadata": {},
   "source": [
    "# ChatPromptTemplate"
   ]
  },
  {
   "cell_type": "code",
   "execution_count": null,
   "id": "7fe54400",
   "metadata": {},
   "outputs": [
    {
     "data": {
      "text/plain": [
       "ChatPromptTemplate(input_variables=['place', 'question', 'travel', 'when'], input_types={}, partial_variables={}, messages=[SystemMessagePromptTemplate(prompt=PromptTemplate(input_variables=[], input_types={}, partial_variables={}, template='당신은 베테랑 여행 가이드입니다. 고객 맞춤 여행일정 수립을 도와드립니다.'), additional_kwargs={}), HumanMessagePromptTemplate(prompt=PromptTemplate(input_variables=['place', 'travel', 'when'], input_types={}, partial_variables={}, template='{when}에 {place}로 {travel}을 계획중입니다.'), additional_kwargs={}), AIMessagePromptTemplate(prompt=PromptTemplate(input_variables=['place'], input_types={}, partial_variables={}, template='제가 {place}의 전문 여행 가이드입니다. 어떤 도움이 필요하세요?'), additional_kwargs={}), HumanMessagePromptTemplate(prompt=PromptTemplate(input_variables=['question'], input_types={}, partial_variables={}, template='{question}'), additional_kwargs={})])"
      ]
     },
     "execution_count": 14,
     "metadata": {},
     "output_type": "execute_result"
    }
   ],
   "source": [
    "from langchain.prompts import ChatPromptTemplate\n",
    "\n",
    "chat_template = ChatPromptTemplate.from_messages(\n",
    "    [\n",
    "        ('system', '당신은 베테랑 여행 가이드입니다. 고객 맞춤 여행일정 수립을 도와드립니다.'),\n",
    "        ('human', '{when}에 {place}로 {travel}을 계획중입니다.'), \n",
    "        ('ai', '제가 {place}의 전문 여행 가이드입니다. 어떤 도움이 필요하세요?'),\n",
    "        ('human', '{question}')\n",
    "    ]\n",
    ")\n",
    "chat_template\n"
   ]
  },
  {
   "cell_type": "code",
   "execution_count": 15,
   "id": "c33af0c4",
   "metadata": {},
   "outputs": [
    {
     "data": {
      "text/plain": [
       "[SystemMessage(content='당신은 베테랑 여행 가이드입니다. 고객 맞춤 여행일정 수립을 도와드립니다.', additional_kwargs={}, response_metadata={}),\n",
       " HumanMessage(content='가을에 제주로 자유여행을 계획중입니다.', additional_kwargs={}, response_metadata={}),\n",
       " AIMessage(content='제가 제주의 전문 여행 가이드입니다. 어떤 도움이 필요하세요?', additional_kwargs={}, response_metadata={}),\n",
       " HumanMessage(content='흥미로운 여행지 3곳 추천해주세요.', additional_kwargs={}, response_metadata={})]"
      ]
     },
     "execution_count": 15,
     "metadata": {},
     "output_type": "execute_result"
    }
   ],
   "source": [
    "final_prompt = chat_template.format_messages(when='가을', place='제주', travel='자유여행', question='흥미로운 여행지 3곳 추천해주세요.')\n",
    "final_prompt"
   ]
  },
  {
   "cell_type": "code",
   "execution_count": 17,
   "id": "895499e6",
   "metadata": {},
   "outputs": [
    {
     "data": {
      "text/plain": [
       "AIMessage(content='가을의 제주에서 꼭 방문해보셔야 할 흥미로운 여행지 3곳을 추천해 드리겠습니다!\\n\\n1. **한라산 국립공원**:\\n   - 가을에는 한라산의 단풍이 아름답게 물들어 환상적인 경관을 제공합니다. 다양한 등산 코스가 있어 초보자부터 숙련자까지 모두 즐길 수 있으며, 정상에서의 시원한 경치는 잊지 못할 경험이 될 것입니다.\\n\\n2. **섭지코지**:\\n   - 섭지코지는 아름다운 해안선과 함께 푸른 바다를 감상할 수 있는 곳입니다. 특히, 가을 해가 지는 풍경은 매우 아름답습니다. 주변에 있는 카페에서 따뜻한 음료를 마시며 경치를 즐기는 것도 좋습니다.\\n\\n3. **우도**:\\n   - 제주도에서 배로 쉽게 갈 수 있는 우도는 자연 그대로의 아름다움이 매력입니다. 자전거 대여 후 해안 도로를 따라 일주하거나, 땅콩 아이스크림과 같은 특산물을 맛볼 수 있습니다. 가을의 시원한 날씨에 우도의 풍경은 더할 나위없이 아름답습니다.\\n\\n이 외에도 제주에서 즐길 수 있는 많은 명소와 활동들이 있습니다. 여행 일정에 더 궁금한 점이 있으시면 언제든지 문의해 주세요!', additional_kwargs={'refusal': None}, response_metadata={'token_usage': {'completion_tokens': 303, 'prompt_tokens': 81, 'total_tokens': 384, 'completion_tokens_details': {'accepted_prediction_tokens': 0, 'audio_tokens': 0, 'reasoning_tokens': 0, 'rejected_prediction_tokens': 0}, 'prompt_tokens_details': {'audio_tokens': 0, 'cached_tokens': 0}}, 'model_name': 'gpt-4o-mini-2024-07-18', 'system_fingerprint': 'fp_e665f7564b', 'id': 'chatcmpl-CDM6PDqEQIaYGUo9Q4mFkKHFzQBMS', 'service_tier': 'default', 'finish_reason': 'stop', 'logprobs': None}, id='run--0866c5d3-c81a-42d4-b545-be3e77557a68-0', usage_metadata={'input_tokens': 81, 'output_tokens': 303, 'total_tokens': 384, 'input_token_details': {'audio': 0, 'cache_read': 0}, 'output_token_details': {'audio': 0, 'reasoning': 0}})"
      ]
     },
     "execution_count": 17,
     "metadata": {},
     "output_type": "execute_result"
    }
   ],
   "source": [
    "final_response = llm.invoke(final_prompt)\n",
    "final_response"
   ]
  },
  {
   "cell_type": "code",
   "execution_count": 18,
   "id": "23c105b5",
   "metadata": {},
   "outputs": [
    {
     "data": {
      "text/plain": [
       "'가을의 제주에서 꼭 방문해보셔야 할 흥미로운 여행지 3곳을 추천해 드리겠습니다!\\n\\n1. **한라산 국립공원**:\\n   - 가을에는 한라산의 단풍이 아름답게 물들어 환상적인 경관을 제공합니다. 다양한 등산 코스가 있어 초보자부터 숙련자까지 모두 즐길 수 있으며, 정상에서의 시원한 경치는 잊지 못할 경험이 될 것입니다.\\n\\n2. **섭지코지**:\\n   - 섭지코지는 아름다운 해안선과 함께 푸른 바다를 감상할 수 있는 곳입니다. 특히, 가을 해가 지는 풍경은 매우 아름답습니다. 주변에 있는 카페에서 따뜻한 음료를 마시며 경치를 즐기는 것도 좋습니다.\\n\\n3. **우도**:\\n   - 제주도에서 배로 쉽게 갈 수 있는 우도는 자연 그대로의 아름다움이 매력입니다. 자전거 대여 후 해안 도로를 따라 일주하거나, 땅콩 아이스크림과 같은 특산물을 맛볼 수 있습니다. 가을의 시원한 날씨에 우도의 풍경은 더할 나위없이 아름답습니다.\\n\\n이 외에도 제주에서 즐길 수 있는 많은 명소와 활동들이 있습니다. 여행 일정에 더 궁금한 점이 있으시면 언제든지 문의해 주세요!'"
      ]
     },
     "execution_count": 18,
     "metadata": {},
     "output_type": "execute_result"
    }
   ],
   "source": [
    "final_response.content"
   ]
  },
  {
   "cell_type": "code",
   "execution_count": 21,
   "id": "31978356",
   "metadata": {},
   "outputs": [
    {
     "data": {
      "text/plain": [
       "'당신은 베테랑 여행 가이드입니다. 고객 맞춤 여행일정 수립을 도와드립니다.12월에 동남아로 가족여행을 계획중입니다.'"
      ]
     },
     "execution_count": 21,
     "metadata": {},
     "output_type": "execute_result"
    }
   ],
   "source": [
    "prompt_1 = PromptTemplate.from_template('당신은 베테랑 여행 가이드입니다. 고객 맞춤 여행일정 수립을 도와드립니다.')\n",
    "prompt_2 = PromptTemplate.from_template('{when}에 {place}로 {travel}을 계획중입니다.')\n",
    "\n",
    "concat_prompt = prompt_1+prompt_2\n",
    "concat_prompt.format(place='동남아', when='12월' , travel='가족여행')"
   ]
  },
  {
   "cell_type": "code",
   "execution_count": null,
   "id": "b159669a",
   "metadata": {},
   "outputs": [],
   "source": []
  },
  {
   "cell_type": "code",
   "execution_count": null,
   "id": "1c318416",
   "metadata": {},
   "outputs": [],
   "source": []
  },
  {
   "cell_type": "code",
   "execution_count": null,
   "id": "f68f24b0",
   "metadata": {},
   "outputs": [],
   "source": []
  }
 ],
 "metadata": {
  "kernelspec": {
   "display_name": "prompting_env",
   "language": "python",
   "name": "python3"
  },
  "language_info": {
   "codemirror_mode": {
    "name": "ipython",
    "version": 3
   },
   "file_extension": ".py",
   "mimetype": "text/x-python",
   "name": "python",
   "nbconvert_exporter": "python",
   "pygments_lexer": "ipython3",
   "version": "3.12.11"
  }
 },
 "nbformat": 4,
 "nbformat_minor": 5
}
