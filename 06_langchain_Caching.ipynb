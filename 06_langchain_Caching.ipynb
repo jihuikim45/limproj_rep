{
 "cells": [
  {
   "cell_type": "code",
   "execution_count": 1,
   "id": "1510e9ca",
   "metadata": {},
   "outputs": [
    {
     "data": {
      "text/plain": [
       "'0.3.27'"
      ]
     },
     "execution_count": 1,
     "metadata": {},
     "output_type": "execute_result"
    }
   ],
   "source": [
    "import langchain\n",
    "langchain.__version__"
   ]
  },
  {
   "cell_type": "code",
   "execution_count": 2,
   "id": "ed8731e0",
   "metadata": {},
   "outputs": [
    {
     "data": {
      "text/plain": [
       "ChatOpenAI(client=<openai.resources.chat.completions.completions.Completions object at 0x000001FF5F5DF890>, async_client=<openai.resources.chat.completions.completions.AsyncCompletions object at 0x000001FF5F9A3800>, root_client=<openai.OpenAI object at 0x000001FF5CF3A540>, root_async_client=<openai.AsyncOpenAI object at 0x000001FF5F5DF980>, model_name='gpt-4o-mini', model_kwargs={}, openai_api_key=SecretStr('**********'))"
      ]
     },
     "execution_count": 2,
     "metadata": {},
     "output_type": "execute_result"
    }
   ],
   "source": [
    "from langchain_openai import ChatOpenAI\n",
    "llm = ChatOpenAI(model='gpt-4o-mini')\n",
    "llm"
   ]
  },
  {
   "cell_type": "markdown",
   "id": "cb39826b",
   "metadata": {},
   "source": [
    "# invoke()"
   ]
  },
  {
   "cell_type": "code",
   "execution_count": 5,
   "id": "b310892e",
   "metadata": {},
   "outputs": [
    {
     "data": {
      "text/plain": [
       "AIMessage(content='서울에서 대표적인 음식을 맛볼 수 있는 레스토랑 5곳을 추천드립니다.\\n\\n1. **광화문 미진**  \\n   - **특징**: 전통 한식과 비빔밥이 유명한 곳으로, 신선한 재료와 정성 가득한 요리를 제공합니다.\\n   - **추천 메뉴**: 돌솥비빔밥, 한우 육회\\n\\n2. **신세계 백화점 강남점 푸드코트**  \\n   - **특징**: 다양한 한식 음식을 한 자리에서 경험할 수 있는 푸드코트입니다. 여러 유명 지역 맛집들이 입점해 있어 선택의 폭이 넓습니다.\\n   - **추천 메뉴**: 칼국수, 김밥, 불고기\\n\\n3. **토속촌 삼계탕**  \\n   - **특징**: 전통 삼계탕 전문점으로, 국내외 관광객들에게 인기가 많은 곳입니다. 40년 이상의 전통을 자랑합니다.\\n   - **추천 메뉴**: 삼계탕, 오리백숙\\n\\n4. **을지로 노포 경양식**  \\n   - **특징**: 서울의 전통과 역사를 느낄 수 있는 경양식 레스토랑으로, 정통 스테이크와 소스가 매력적입니다.\\n   - **추천 메뉴**: 함박스테이크, 로스트 비프\\n\\n5. **모터시티**  \\n   - **특징**: 서울의 핫플레이스 중 하나로, 디트로이트 스타일 피자를 맛볼 수 있는 곳입니다. 다양한 음료와 함께 즐길 수 있습니다.\\n   - **추천 메뉴**: 디트로이트 스타일 피자, 수제 맥주\\n\\n이 외에도 서울엔 여러 맛집들이 많으니 방문해 보세요!', additional_kwargs={'refusal': None}, response_metadata={'token_usage': {'completion_tokens': 397, 'prompt_tokens': 27, 'total_tokens': 424, 'completion_tokens_details': {'accepted_prediction_tokens': 0, 'audio_tokens': 0, 'reasoning_tokens': 0, 'rejected_prediction_tokens': 0}, 'prompt_tokens_details': {'audio_tokens': 0, 'cached_tokens': 0}}, 'model_name': 'gpt-4o-mini-2024-07-18', 'system_fingerprint': 'fp_8bda4d3a2c', 'id': 'chatcmpl-CDL5dyqX2THYykxrmorSEGWf3GJRY', 'service_tier': 'default', 'finish_reason': 'stop', 'logprobs': None}, id='run--51a95d1a-c300-411b-8adb-2a551c08e9b4-0', usage_metadata={'input_tokens': 27, 'output_tokens': 397, 'total_tokens': 424, 'input_token_details': {'audio': 0, 'cache_read': 0}, 'output_token_details': {'audio': 0, 'reasoning': 0}})"
      ]
     },
     "execution_count": 5,
     "metadata": {},
     "output_type": "execute_result"
    }
   ],
   "source": [
    "from langchain_core.messages import HumanMessage\n",
    "messages = [\n",
    "    HumanMessage(content = \"서울을 대표하는 음식을 맛볼 수 있는 레스토랑 5개를 추천해주세요.\")\n",
    "]\n",
    "res = llm.invoke(messages)\n",
    "res"
   ]
  },
  {
   "cell_type": "markdown",
   "id": "085f1189",
   "metadata": {},
   "source": [
    "# caching \n",
    "1. InMemoryCache   \n",
    "2. cache db"
   ]
  },
  {
   "cell_type": "code",
   "execution_count": 6,
   "id": "3571fcd5",
   "metadata": {},
   "outputs": [],
   "source": [
    "from langchain_core.globals import set_llm_cache\n",
    "from langchain_core.caches import InMemoryCache\n",
    "\n",
    "set_llm_cache( InMemoryCache() )"
   ]
  },
  {
   "cell_type": "code",
   "execution_count": 8,
   "id": "daab84e6",
   "metadata": {},
   "outputs": [
    {
     "data": {
      "text/plain": [
       "AIMessage(content='서울을 대표하는 음식을 맛볼 수 있는 레스토랑 5곳을 추천해 드릴게요.\\n\\n1. **백리향** - 이곳은 전통적인 한식을 맛볼 수 있는 레스토랑으로, 특히 한정식이 유명합니다. 정갈한 플레이팅과 다양한 반찬으로 서울의 전통 맛을 체험할 수 있습니다.\\n\\n2. **명동칼국수** - 명동의 대표적인 칼국수 집으로, 따끈한 국물과 쫄깃한 면이 인상적입니다. 간편하면서도 맛있는 한 끼를 원하신다면 추천드립니다.\\n\\n3. **광장시장** - 특정 레스토랑은 아니지만, 서울의 전통 시장 중 하나인 광장시장은 다양한 전통 음식을 맛볼 수 있는 곳입니다. 빈대떡, 떡볶이, 순대 등 다채로운 먹거리를 경험할 수 있습니다.\\n\\n4. **한방삼계탕** - 보양식으로 유명한 삼계탕을 전문으로 하는 곳으로, 닭과 한방 재료가 조화롭게 어우러진 맛이 일품입니다. 특히 여름철 보양식으로 인기가 많습니다.\\n\\n5. **을지로 통닭** - 약간의 현대적 감각으로 재해석된 전통 치킨을 제공하는 레스토랑입니다. 바삭하게 튀겨낸 통닭과 함께 다양한 사이드 메뉴를 즐길 수 있습니다.\\n\\n이 외에도 서울에는 다양한 한식 맛집들이 있으니, 여러 곳을 방문해 보시면 좋겠어요!', additional_kwargs={'refusal': None}, response_metadata={'token_usage': {'completion_tokens': 345, 'prompt_tokens': 27, 'total_tokens': 372, 'completion_tokens_details': {'accepted_prediction_tokens': 0, 'audio_tokens': 0, 'reasoning_tokens': 0, 'rejected_prediction_tokens': 0}, 'prompt_tokens_details': {'audio_tokens': 0, 'cached_tokens': 0}}, 'model_name': 'gpt-4o-mini-2024-07-18', 'system_fingerprint': 'fp_8bda4d3a2c', 'id': 'chatcmpl-CDL8n0Wy1BcX1REm53sAV6suHJrg1', 'service_tier': 'default', 'finish_reason': 'stop', 'logprobs': None}, id='run--6b2548be-38bb-4a79-8bde-ddd80ab173a0-0', usage_metadata={'input_tokens': 27, 'output_tokens': 345, 'total_tokens': 372, 'input_token_details': {'audio': 0, 'cache_read': 0}, 'output_token_details': {'audio': 0, 'reasoning': 0}, 'total_cost': 0})"
      ]
     },
     "execution_count": 8,
     "metadata": {},
     "output_type": "execute_result"
    }
   ],
   "source": [
    "res = llm.invoke(messages) #5.4s\n",
    "res"
   ]
  },
  {
   "cell_type": "code",
   "execution_count": null,
   "id": "b11b38c6",
   "metadata": {},
   "outputs": [
    {
     "data": {
      "text/plain": [
       "ChatOpenAI(cache=False, client=<openai.resources.chat.completions.completions.Completions object at 0x000001FF5FB17920>, async_client=<openai.resources.chat.completions.completions.AsyncCompletions object at 0x000001FF5FCCFC80>, root_client=<openai.OpenAI object at 0x000001FF5FCBB140>, root_async_client=<openai.AsyncOpenAI object at 0x000001FF5FCA9010>, model_name='gpt-4o-mini', model_kwargs={}, openai_api_key=SecretStr('**********'))"
      ]
     },
     "execution_count": 9,
     "metadata": {},
     "output_type": "execute_result"
    }
   ],
   "source": [
    "# 캐싱이 필요없을 때\n",
    "llm1 = ChatOpenAI(model='gpt-4o-mini', cache=False)\n",
    "llm1"
   ]
  },
  {
   "cell_type": "markdown",
   "id": "743bc37f",
   "metadata": {},
   "source": [
    "# message가 동일해야 한다. 처음 실행시 캐싱한다."
   ]
  },
  {
   "cell_type": "markdown",
   "id": "0eef3780",
   "metadata": {},
   "source": [
    "# redis cache 설정"
   ]
  },
  {
   "cell_type": "code",
   "execution_count": 21,
   "id": "35cbceca",
   "metadata": {},
   "outputs": [
    {
     "name": "stdout",
     "output_type": "stream",
     "text": [
      "True\n",
      "bar\n"
     ]
    }
   ],
   "source": [
    "from langchain_community.cache import RedisCache\n",
    "from redis import Redis\n",
    "\n",
    "# Redis 연결 객체 생성\n",
    "r = Redis(\n",
    "    host='redis-15982.c99.us-east-1-4.ec2.redns.redis-cloud.com',\n",
    "    port=15982,\n",
    "    decode_responses=True,\n",
    "    username=\"default\",\n",
    "    password=\"cTjLexkVAETHaJyvcJzh5BJTPWxYKSWb\",\n",
    ")\n",
    "\n",
    "# LangChain 캐시 설정\n",
    "set_llm_cache(RedisCache(r))\n",
    "\n",
    "# Redis 단독 테스트\n",
    "success = r.set('foo', 'bar')\n",
    "print(success)  # True\n",
    "\n",
    "result = r.get('foo')\n",
    "print(result)  # bar"
   ]
  },
  {
   "cell_type": "code",
   "execution_count": 22,
   "id": "9a99eacd",
   "metadata": {},
   "outputs": [],
   "source": [
    "reponse = llm.invoke(messages) #5.4s"
   ]
  },
  {
   "cell_type": "code",
   "execution_count": null,
   "id": "da21caf8",
   "metadata": {},
   "outputs": [],
   "source": []
  },
  {
   "cell_type": "code",
   "execution_count": null,
   "id": "03bf3f5c",
   "metadata": {},
   "outputs": [],
   "source": []
  },
  {
   "cell_type": "code",
   "execution_count": null,
   "id": "b6e56420",
   "metadata": {},
   "outputs": [],
   "source": []
  }
 ],
 "metadata": {
  "kernelspec": {
   "display_name": "prompting_env",
   "language": "python",
   "name": "python3"
  },
  "language_info": {
   "codemirror_mode": {
    "name": "ipython",
    "version": 3
   },
   "file_extension": ".py",
   "mimetype": "text/x-python",
   "name": "python",
   "nbconvert_exporter": "python",
   "pygments_lexer": "ipython3",
   "version": "3.12.11"
  }
 },
 "nbformat": 4,
 "nbformat_minor": 5
}
