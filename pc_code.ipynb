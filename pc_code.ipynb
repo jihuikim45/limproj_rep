{
 "cells": [
  {
   "cell_type": "code",
   "execution_count": null,
   "id": "d05c1759",
   "metadata": {},
   "outputs": [],
   "source": [
    "import pandas as pd\n",
    "import numpy as np\n",
    "from langchain.schema import Document\n",
    "\n",
    "df = pd.read_csv(\"./winemag-data-130k-v2.csv\")\n",
    "\n",
    "NaN 값들을 적절히 처리\n",
    "df = df.fillna({\n",
    "    'country': 'Unknown',\n",
    "    'points': 0,\n",
    "    'variety': 'Unknown', \n",
    "    'price': 0,\n",
    "    'title': 'Unknown'\n",
    "})\n",
    "\n",
    "docs = []\n",
    "for idx, row in df.iterrows():\n",
    "    # 메타데이터에서 NaN 값 확인 및 처리\n",
    "    metadata = {\n",
    "        'country': str(row['country']) if pd.notna(row['country']) else 'Unknown',\n",
    "        'points': int(row['points']) if pd.notna(row['points']) else 0,\n",
    "        'variety': str(row['variety']) if pd.notna(row['variety']) else 'Unknown',\n",
    "        'price': float(row['price']) if pd.notna(row['price']) else 0.0,\n",
    "        'title': str(row['title']) if pd.notna(row['title']) else 'Unknown',\n",
    "        'row': idx\n",
    "    }\n",
    "\n",
    "description도 NaN 체크\n",
    "    description = str(row['description']) if pd.notna(row['description']) else 'No description available'\n",
    "\n",
    "    doc = Document(\n",
    "        page_content=description,\n",
    "        metadata=metadata\n",
    "    )\n",
    "    docs.append(doc)\n",
    "\n",
    "print(f\"Total documents created: {len(docs)}\")"
   ]
  }
 ],
 "metadata": {
  "kernelspec": {
   "display_name": "prompting_env",
   "language": "python",
   "name": "python3"
  },
  "language_info": {
   "name": "python",
   "version": "3.12.11"
  }
 },
 "nbformat": 4,
 "nbformat_minor": 5
}
