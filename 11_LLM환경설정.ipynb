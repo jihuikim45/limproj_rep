{
 "cells": [
  {
   "cell_type": "markdown",
   "id": "99909fa9",
   "metadata": {},
   "source": [
    "# openai\n",
    "# upstage\n",
    "# ollama"
   ]
  },
  {
   "cell_type": "code",
   "execution_count": 1,
   "id": "ca9e6092",
   "metadata": {},
   "outputs": [
    {
     "name": "stdout",
     "output_type": "stream",
     "text": [
      "Collecting langchain-upstage\n",
      "  Downloading langchain_upstage-0.7.3-py3-none-any.whl.metadata (3.3 kB)\n",
      "Requirement already satisfied: langchain-core<0.4.0,>=0.3.29 in c:\\users\\lenovo\\miniconda3\\envs\\prompting_env\\lib\\site-packages (from langchain-upstage) (0.3.75)\n",
      "Requirement already satisfied: langchain-openai<0.4,>=0.3 in c:\\users\\lenovo\\miniconda3\\envs\\prompting_env\\lib\\site-packages (from langchain-upstage) (0.3.31)\n",
      "Collecting pypdf<5.0.0,>=4.2.0 (from langchain-upstage)\n",
      "  Downloading pypdf-4.3.1-py3-none-any.whl.metadata (7.4 kB)\n",
      "Requirement already satisfied: requests<3.0.0,>=2.31.0 in c:\\users\\lenovo\\miniconda3\\envs\\prompting_env\\lib\\site-packages (from langchain-upstage) (2.32.5)\n",
      "Collecting tokenizers<0.21.0,>=0.20.0 (from langchain-upstage)\n",
      "  Downloading tokenizers-0.20.3-cp312-none-win_amd64.whl.metadata (6.9 kB)\n",
      "Requirement already satisfied: langsmith>=0.3.45 in c:\\users\\lenovo\\miniconda3\\envs\\prompting_env\\lib\\site-packages (from langchain-core<0.4.0,>=0.3.29->langchain-upstage) (0.4.15)\n",
      "Requirement already satisfied: tenacity!=8.4.0,<10.0.0,>=8.1.0 in c:\\users\\lenovo\\miniconda3\\envs\\prompting_env\\lib\\site-packages (from langchain-core<0.4.0,>=0.3.29->langchain-upstage) (9.1.2)\n",
      "Requirement already satisfied: jsonpatch<2.0,>=1.33 in c:\\users\\lenovo\\miniconda3\\envs\\prompting_env\\lib\\site-packages (from langchain-core<0.4.0,>=0.3.29->langchain-upstage) (1.33)\n",
      "Requirement already satisfied: PyYAML>=5.3 in c:\\users\\lenovo\\miniconda3\\envs\\prompting_env\\lib\\site-packages (from langchain-core<0.4.0,>=0.3.29->langchain-upstage) (6.0.2)\n",
      "Requirement already satisfied: typing-extensions>=4.7 in c:\\users\\lenovo\\miniconda3\\envs\\prompting_env\\lib\\site-packages (from langchain-core<0.4.0,>=0.3.29->langchain-upstage) (4.14.1)\n",
      "Requirement already satisfied: packaging>=23.2 in c:\\users\\lenovo\\miniconda3\\envs\\prompting_env\\lib\\site-packages (from langchain-core<0.4.0,>=0.3.29->langchain-upstage) (25.0)\n",
      "Requirement already satisfied: pydantic>=2.7.4 in c:\\users\\lenovo\\miniconda3\\envs\\prompting_env\\lib\\site-packages (from langchain-core<0.4.0,>=0.3.29->langchain-upstage) (2.11.7)\n",
      "Requirement already satisfied: jsonpointer>=1.9 in c:\\users\\lenovo\\miniconda3\\envs\\prompting_env\\lib\\site-packages (from jsonpatch<2.0,>=1.33->langchain-core<0.4.0,>=0.3.29->langchain-upstage) (3.0.0)\n",
      "Requirement already satisfied: openai<2.0.0,>=1.99.9 in c:\\users\\lenovo\\miniconda3\\envs\\prompting_env\\lib\\site-packages (from langchain-openai<0.4,>=0.3->langchain-upstage) (1.100.2)\n",
      "Requirement already satisfied: tiktoken<1,>=0.7 in c:\\users\\lenovo\\miniconda3\\envs\\prompting_env\\lib\\site-packages (from langchain-openai<0.4,>=0.3->langchain-upstage) (0.11.0)\n",
      "Requirement already satisfied: anyio<5,>=3.5.0 in c:\\users\\lenovo\\miniconda3\\envs\\prompting_env\\lib\\site-packages (from openai<2.0.0,>=1.99.9->langchain-openai<0.4,>=0.3->langchain-upstage) (4.10.0)\n",
      "Requirement already satisfied: distro<2,>=1.7.0 in c:\\users\\lenovo\\miniconda3\\envs\\prompting_env\\lib\\site-packages (from openai<2.0.0,>=1.99.9->langchain-openai<0.4,>=0.3->langchain-upstage) (1.9.0)\n",
      "Requirement already satisfied: httpx<1,>=0.23.0 in c:\\users\\lenovo\\miniconda3\\envs\\prompting_env\\lib\\site-packages (from openai<2.0.0,>=1.99.9->langchain-openai<0.4,>=0.3->langchain-upstage) (0.28.1)\n",
      "Requirement already satisfied: jiter<1,>=0.4.0 in c:\\users\\lenovo\\miniconda3\\envs\\prompting_env\\lib\\site-packages (from openai<2.0.0,>=1.99.9->langchain-openai<0.4,>=0.3->langchain-upstage) (0.10.0)\n",
      "Requirement already satisfied: sniffio in c:\\users\\lenovo\\miniconda3\\envs\\prompting_env\\lib\\site-packages (from openai<2.0.0,>=1.99.9->langchain-openai<0.4,>=0.3->langchain-upstage) (1.3.1)\n",
      "Requirement already satisfied: tqdm>4 in c:\\users\\lenovo\\miniconda3\\envs\\prompting_env\\lib\\site-packages (from openai<2.0.0,>=1.99.9->langchain-openai<0.4,>=0.3->langchain-upstage) (4.67.1)\n",
      "Requirement already satisfied: idna>=2.8 in c:\\users\\lenovo\\miniconda3\\envs\\prompting_env\\lib\\site-packages (from anyio<5,>=3.5.0->openai<2.0.0,>=1.99.9->langchain-openai<0.4,>=0.3->langchain-upstage) (3.10)\n",
      "Requirement already satisfied: certifi in c:\\users\\lenovo\\miniconda3\\envs\\prompting_env\\lib\\site-packages (from httpx<1,>=0.23.0->openai<2.0.0,>=1.99.9->langchain-openai<0.4,>=0.3->langchain-upstage) (2025.8.3)\n",
      "Requirement already satisfied: httpcore==1.* in c:\\users\\lenovo\\miniconda3\\envs\\prompting_env\\lib\\site-packages (from httpx<1,>=0.23.0->openai<2.0.0,>=1.99.9->langchain-openai<0.4,>=0.3->langchain-upstage) (1.0.9)\n",
      "Requirement already satisfied: h11>=0.16 in c:\\users\\lenovo\\miniconda3\\envs\\prompting_env\\lib\\site-packages (from httpcore==1.*->httpx<1,>=0.23.0->openai<2.0.0,>=1.99.9->langchain-openai<0.4,>=0.3->langchain-upstage) (0.16.0)\n",
      "Requirement already satisfied: annotated-types>=0.6.0 in c:\\users\\lenovo\\miniconda3\\envs\\prompting_env\\lib\\site-packages (from pydantic>=2.7.4->langchain-core<0.4.0,>=0.3.29->langchain-upstage) (0.7.0)\n",
      "Requirement already satisfied: pydantic-core==2.33.2 in c:\\users\\lenovo\\miniconda3\\envs\\prompting_env\\lib\\site-packages (from pydantic>=2.7.4->langchain-core<0.4.0,>=0.3.29->langchain-upstage) (2.33.2)\n",
      "Requirement already satisfied: typing-inspection>=0.4.0 in c:\\users\\lenovo\\miniconda3\\envs\\prompting_env\\lib\\site-packages (from pydantic>=2.7.4->langchain-core<0.4.0,>=0.3.29->langchain-upstage) (0.4.1)\n",
      "Requirement already satisfied: charset_normalizer<4,>=2 in c:\\users\\lenovo\\miniconda3\\envs\\prompting_env\\lib\\site-packages (from requests<3.0.0,>=2.31.0->langchain-upstage) (3.4.3)\n",
      "Requirement already satisfied: urllib3<3,>=1.21.1 in c:\\users\\lenovo\\miniconda3\\envs\\prompting_env\\lib\\site-packages (from requests<3.0.0,>=2.31.0->langchain-upstage) (2.5.0)\n",
      "Requirement already satisfied: regex>=2022.1.18 in c:\\users\\lenovo\\miniconda3\\envs\\prompting_env\\lib\\site-packages (from tiktoken<1,>=0.7->langchain-openai<0.4,>=0.3->langchain-upstage) (2025.7.34)\n",
      "Collecting huggingface-hub<1.0,>=0.16.4 (from tokenizers<0.21.0,>=0.20.0->langchain-upstage)\n",
      "  Using cached huggingface_hub-0.34.4-py3-none-any.whl.metadata (14 kB)\n",
      "Collecting filelock (from huggingface-hub<1.0,>=0.16.4->tokenizers<0.21.0,>=0.20.0->langchain-upstage)\n",
      "  Downloading filelock-3.19.1-py3-none-any.whl.metadata (2.1 kB)\n",
      "Requirement already satisfied: fsspec>=2023.5.0 in c:\\users\\lenovo\\miniconda3\\envs\\prompting_env\\lib\\site-packages (from huggingface-hub<1.0,>=0.16.4->tokenizers<0.21.0,>=0.20.0->langchain-upstage) (2025.7.0)\n",
      "Requirement already satisfied: orjson>=3.9.14 in c:\\users\\lenovo\\miniconda3\\envs\\prompting_env\\lib\\site-packages (from langsmith>=0.3.45->langchain-core<0.4.0,>=0.3.29->langchain-upstage) (3.11.2)\n",
      "Requirement already satisfied: requests-toolbelt>=1.0.0 in c:\\users\\lenovo\\miniconda3\\envs\\prompting_env\\lib\\site-packages (from langsmith>=0.3.45->langchain-core<0.4.0,>=0.3.29->langchain-upstage) (1.0.0)\n",
      "Requirement already satisfied: zstandard>=0.23.0 in c:\\users\\lenovo\\miniconda3\\envs\\prompting_env\\lib\\site-packages (from langsmith>=0.3.45->langchain-core<0.4.0,>=0.3.29->langchain-upstage) (0.24.0)\n",
      "Requirement already satisfied: colorama in c:\\users\\lenovo\\miniconda3\\envs\\prompting_env\\lib\\site-packages (from tqdm>4->openai<2.0.0,>=1.99.9->langchain-openai<0.4,>=0.3->langchain-upstage) (0.4.6)\n",
      "Downloading langchain_upstage-0.7.3-py3-none-any.whl (25 kB)\n",
      "Downloading pypdf-4.3.1-py3-none-any.whl (295 kB)\n",
      "Downloading tokenizers-0.20.3-cp312-none-win_amd64.whl (2.4 MB)\n",
      "   ---------------------------------------- 0.0/2.4 MB ? eta -:--:--\n",
      "   ---- ----------------------------------- 0.3/2.4 MB ? eta -:--:--\n",
      "   -------- ------------------------------- 0.5/2.4 MB 1.5 MB/s eta 0:00:02\n",
      "   ------------- -------------------------- 0.8/2.4 MB 1.6 MB/s eta 0:00:01\n",
      "   ---------------------- ----------------- 1.3/2.4 MB 1.7 MB/s eta 0:00:01\n",
      "   -------------------------- ------------- 1.6/2.4 MB 1.7 MB/s eta 0:00:01\n",
      "   ------------------------------ --------- 1.8/2.4 MB 1.7 MB/s eta 0:00:01\n",
      "   ---------------------------------------- 2.4/2.4 MB 1.7 MB/s  0:00:01\n",
      "Using cached huggingface_hub-0.34.4-py3-none-any.whl (561 kB)\n",
      "Downloading filelock-3.19.1-py3-none-any.whl (15 kB)\n",
      "Installing collected packages: pypdf, filelock, huggingface-hub, tokenizers, langchain-upstage\n",
      "\n",
      "  Attempting uninstall: pypdf\n",
      "\n",
      "    Found existing installation: pypdf 6.0.0\n",
      "\n",
      "    Uninstalling pypdf-6.0.0:\n",
      "\n",
      "      Successfully uninstalled pypdf-6.0.0\n",
      "\n",
      "   ---------------------------------------- 0/5 [pypdf]\n",
      "   ---------------------------------------- 0/5 [pypdf]\n",
      "   ---------------------------------------- 0/5 [pypdf]\n",
      "   ---------------------------------------- 0/5 [pypdf]\n",
      "   -------- ------------------------------- 1/5 [filelock]\n",
      "   ---------------- ----------------------- 2/5 [huggingface-hub]\n",
      "   ---------------- ----------------------- 2/5 [huggingface-hub]\n",
      "   ---------------- ----------------------- 2/5 [huggingface-hub]\n",
      "   ---------------- ----------------------- 2/5 [huggingface-hub]\n",
      "   ---------------- ----------------------- 2/5 [huggingface-hub]\n",
      "   ---------------- ----------------------- 2/5 [huggingface-hub]\n",
      "   ---------------- ----------------------- 2/5 [huggingface-hub]\n",
      "   ---------------- ----------------------- 2/5 [huggingface-hub]\n",
      "   ------------------------ --------------- 3/5 [tokenizers]\n",
      "   -------------------------------- ------- 4/5 [langchain-upstage]\n",
      "   ---------------------------------------- 5/5 [langchain-upstage]\n",
      "\n",
      "Successfully installed filelock-3.19.1 huggingface-hub-0.34.4 langchain-upstage-0.7.3 pypdf-4.3.1 tokenizers-0.20.3\n"
     ]
    },
    {
     "name": "stderr",
     "output_type": "stream",
     "text": [
      "ERROR: pip's dependency resolver does not currently take into account all the packages that are installed. This behaviour is the source of the following dependency conflicts.\n",
      "llama-index-readers-file 0.5.2 requires pypdf<7,>=5.1.0, but you have pypdf 4.3.1 which is incompatible.\n"
     ]
    }
   ],
   "source": [
    "!pip install langchain-upstage"
   ]
  },
  {
   "cell_type": "code",
   "execution_count": 4,
   "id": "a62ef806",
   "metadata": {},
   "outputs": [
    {
     "name": "stdout",
     "output_type": "stream",
     "text": [
      "API Key configured: True\n"
     ]
    }
   ],
   "source": [
    "from dotenv import load_dotenv\n",
    "import os\n",
    "\n",
    "load_dotenv()\n",
    "upsatage_api_key = os.getenv(\"UPSTAGE_API_KEY\")\n",
    "print(\"API Key configured:\", \"UPSTAGE_API_KEY\" in os.environ)"
   ]
  },
  {
   "cell_type": "code",
   "execution_count": 8,
   "id": "d7029432",
   "metadata": {},
   "outputs": [
    {
     "name": "stdout",
     "output_type": "stream",
     "text": [
      "content='안녕하세요! 저는 **업스테이지의 Solar Pro 2**입니다.  \\n**30.9B 파라미터** 규모의 고성능 LLM으로, 복잡한 추론과 창의적 문제 해결을 지원합니다. 😊' additional_kwargs={'refusal': None} response_metadata={'token_usage': {'completion_tokens': 41, 'prompt_tokens': 23, 'total_tokens': 64, 'completion_tokens_details': {'accepted_prediction_tokens': 0, 'audio_tokens': 0, 'reasoning_tokens': 0, 'rejected_prediction_tokens': 0}, 'prompt_tokens_details': {'audio_tokens': 0, 'cached_tokens': 0}}, 'model_name': 'solar-pro2-250710', 'system_fingerprint': None, 'id': '4193dd32-20af-4a16-a607-10216b0d79eb', 'service_tier': None, 'finish_reason': 'stop', 'logprobs': None} id='run--41077f30-a883-497d-9f4f-5c0eb8339b81-0' usage_metadata={'input_tokens': 23, 'output_tokens': 41, 'total_tokens': 64, 'input_token_details': {'audio': 0, 'cache_read': 0}, 'output_token_details': {'audio': 0, 'reasoning': 0}}\n"
     ]
    }
   ],
   "source": [
    "# pip install -qU langchain-core langchain-upstage\n",
    "\n",
    "from langchain_upstage import ChatUpstage\n",
    "from langchain_core.messages import HumanMessage\n",
    "\n",
    "chat = ChatUpstage(api_key=\"up_8yNoQrXHBCBq8v25YUKAHOPBbjveo\", model=\"solar-pro2\")\n",
    "\n",
    "messages = [\n",
    "    HumanMessage(content=\"안녕? 네 소개를 2줄로 작성해.\")\n",
    "]\n",
    "\n",
    "response = chat.invoke(messages)\n",
    "print(response)\n"
   ]
  },
  {
   "cell_type": "code",
   "execution_count": null,
   "id": "4fccc326",
   "metadata": {},
   "outputs": [],
   "source": [
    "from langchain_community.chat_models import ChatOllama\n",
    "llm_ollama = ChatOllama(model='gemma2')\n",
    "response = llm_ollama.invoke('안녕? 네 소개를 2줄로 작성해.')\n",
    "response.content"
   ]
  }
 ],
 "metadata": {
  "kernelspec": {
   "display_name": "prompting_env",
   "language": "python",
   "name": "python3"
  },
  "language_info": {
   "codemirror_mode": {
    "name": "ipython",
    "version": 3
   },
   "file_extension": ".py",
   "mimetype": "text/x-python",
   "name": "python",
   "nbconvert_exporter": "python",
   "pygments_lexer": "ipython3",
   "version": "3.12.11"
  }
 },
 "nbformat": 4,
 "nbformat_minor": 5
}
