{
 "cells": [
  {
   "cell_type": "code",
   "execution_count": 16,
   "id": "019aa930",
   "metadata": {},
   "outputs": [],
   "source": [
    "from dotenv import load_dotenv\n",
    "import os\n",
    "\n",
    "load_dotenv()\n",
    "\n",
    "OPENAI_API_KEY = os.environ['OPENAI_API_KEY']\n",
    "PINECONE_API_KEY = os.environ['PINECONE_API_KEY']"
   ]
  },
  {
   "cell_type": "code",
   "execution_count": 17,
   "id": "d958bfe6",
   "metadata": {},
   "outputs": [],
   "source": [
    "from pinecone import Pinecone, ServerlessSpec\n",
    "pc = Pinecone(api_key=PINECONE_API_KEY)"
   ]
  },
  {
   "cell_type": "code",
   "execution_count": 18,
   "id": "5820d1d6",
   "metadata": {},
   "outputs": [],
   "source": [
    "index_name = \"wine-reviews\"\n",
    "for idx in pc.list_indexes():\n",
    "    if idx.name == index_name:\n",
    "        pc.delete_index(idx.name)"
   ]
  },
  {
   "cell_type": "code",
   "execution_count": 19,
   "id": "8073e87f",
   "metadata": {},
   "outputs": [
    {
     "data": {
      "text/plain": [
       "{\n",
       "    \"name\": \"wine-reviews\",\n",
       "    \"metric\": \"cosine\",\n",
       "    \"host\": \"wine-reviews-147ea7t.svc.aped-4627-b74a.pinecone.io\",\n",
       "    \"spec\": {\n",
       "        \"serverless\": {\n",
       "            \"cloud\": \"aws\",\n",
       "            \"region\": \"us-east-1\"\n",
       "        }\n",
       "    },\n",
       "    \"status\": {\n",
       "        \"ready\": true,\n",
       "        \"state\": \"Ready\"\n",
       "    },\n",
       "    \"vector_type\": \"dense\",\n",
       "    \"dimension\": 1536,\n",
       "    \"deletion_protection\": \"disabled\",\n",
       "    \"tags\": null\n",
       "}"
      ]
     },
     "execution_count": 19,
     "metadata": {},
     "output_type": "execute_result"
    }
   ],
   "source": [
    "pc.create_index(\n",
    "    name=index_name,\n",
    "    dimension=1536,\n",
    "    metric=\"cosine\",\n",
    "    spec=ServerlessSpec(\n",
    "        cloud=\"aws\",\n",
    "        region=\"us-east-1\"\n",
    "    )\n",
    ")"
   ]
  },
  {
   "cell_type": "code",
   "execution_count": 20,
   "id": "f7d32582",
   "metadata": {},
   "outputs": [
    {
     "data": {
      "text/plain": [
       "{'dimension': 1536,\n",
       " 'index_fullness': 0.0,\n",
       " 'metric': 'cosine',\n",
       " 'namespaces': {},\n",
       " 'total_vector_count': 0,\n",
       " 'vector_type': 'dense'}"
      ]
     },
     "execution_count": 20,
     "metadata": {},
     "output_type": "execute_result"
    }
   ],
   "source": [
    "index = pc.Index(index_name)\n",
    "index.describe_index_stats()"
   ]
  },
  {
   "cell_type": "code",
   "execution_count": 28,
   "id": "70bd5406",
   "metadata": {},
   "outputs": [
    {
     "name": "stdout",
     "output_type": "stream",
     "text": [
      "{'dimension': 1536,\n",
      " 'index_fullness': 0.0,\n",
      " 'metric': 'cosine',\n",
      " 'namespaces': {},\n",
      " 'total_vector_count': 0,\n",
      " 'vector_type': 'dense'}\n"
     ]
    }
   ],
   "source": [
    "from pinecone import Pinecone\n",
    "import os\n",
    "from dotenv import load_dotenv\n",
    "\n",
    "load_dotenv()\n",
    "\n",
    "pc = Pinecone(api_key=os.getenv(\"PINECONE_API_KEY\"))\n",
    "index = pc.Index(os.getenv(\"PINECONE_INDEX_NAME\"))\n",
    "\n",
    "print(index.describe_index_stats())\n"
   ]
  },
  {
   "cell_type": "code",
   "execution_count": 29,
   "id": "f3a93991",
   "metadata": {},
   "outputs": [
    {
     "name": "stdout",
     "output_type": "stream",
     "text": [
      "업로드 완료!\n"
     ]
    }
   ],
   "source": [
    "import os\n",
    "from dotenv import load_dotenv\n",
    "from pinecone import Pinecone\n",
    "from openai import OpenAI\n",
    "\n",
    "# .env 로드\n",
    "load_dotenv()\n",
    "\n",
    "# OpenAI & Pinecone 클라이언트 설정\n",
    "client = OpenAI(api_key=os.getenv(\"OPENAI_API_KEY\"))\n",
    "pc = Pinecone(api_key=os.getenv(\"PINECONE_API_KEY\"))\n",
    "\n",
    "# Pinecone Index 불러오기\n",
    "index_name = os.getenv(\"PINECONE_INDEX_NAME\")  # wine-reviews\n",
    "index = pc.Index(index_name)\n",
    "\n",
    "# 예시 데이터 (보통 CSV/JSON에서 읽어옴)\n",
    "wine_reviews = [\n",
    "    {\"id\": \"1\", \"text\": \"A fresh Chardonnay with citrus and apple notes.\", \"metadata\": {\"wine\": \"Chardonnay\", \"country\": \"France\"}},\n",
    "    {\"id\": \"2\", \"text\": \"A bold Cabernet Sauvignon with dark fruit and oak.\", \"metadata\": {\"wine\": \"Cabernet Sauvignon\", \"country\": \"USA\"}},\n",
    "]\n",
    "\n",
    "# OpenAI 임베딩 생성 + Pinecone 업서트\n",
    "vectors = []\n",
    "for review in wine_reviews:\n",
    "    embedding = client.embeddings.create(\n",
    "        model=\"text-embedding-3-small\",  # dimension 1536\n",
    "        input=review[\"text\"]\n",
    "    ).data[0].embedding\n",
    "    \n",
    "    vectors.append({\n",
    "        \"id\": review[\"id\"],\n",
    "        \"values\": embedding,\n",
    "        \"metadata\": review[\"metadata\"]\n",
    "    })\n",
    "\n",
    "# Pinecone에 업서트 (저장)\n",
    "index.upsert(vectors=vectors)\n",
    "\n",
    "print(\"업로드 완료!\")\n"
   ]
  },
  {
   "cell_type": "code",
   "execution_count": 30,
   "id": "1df0cf55",
   "metadata": {},
   "outputs": [
    {
     "name": "stdout",
     "output_type": "stream",
     "text": [
      "{'dimension': 1536,\n",
      " 'index_fullness': 0.0,\n",
      " 'metric': 'cosine',\n",
      " 'namespaces': {},\n",
      " 'total_vector_count': 0,\n",
      " 'vector_type': 'dense'}\n"
     ]
    }
   ],
   "source": [
    "print(index.describe_index_stats())\n"
   ]
  },
  {
   "cell_type": "code",
   "execution_count": 31,
   "id": "ff44aaea",
   "metadata": {},
   "outputs": [
    {
     "data": {
      "text/plain": [
       "{'id': '1001',\n",
       " 'text': 'Aromas of ripe black cherry and spice. Medium-bodied with soft tannins.',\n",
       " 'metadata': {'wine': 'Merlot', 'country': 'Italy', 'points': 90}}"
      ]
     },
     "execution_count": 31,
     "metadata": {},
     "output_type": "execute_result"
    }
   ],
   "source": [
    "{\"id\": \"1001\", \n",
    " \"text\": \"Aromas of ripe black cherry and spice. Medium-bodied with soft tannins.\", \n",
    " \"metadata\": {\"wine\": \"Merlot\", \"country\": \"Italy\", \"points\": 90}}\n"
   ]
  },
  {
   "cell_type": "code",
   "execution_count": 35,
   "id": "f23f9e0b",
   "metadata": {},
   "outputs": [
    {
     "name": "stderr",
     "output_type": "stream",
     "text": [
      "100%|██████████| 1300/1300 [14:35:29<00:00, 40.41s/it]  "
     ]
    },
    {
     "name": "stdout",
     "output_type": "stream",
     "text": [
      "✅ 모든 데이터 업로드 완료!\n"
     ]
    },
    {
     "name": "stderr",
     "output_type": "stream",
     "text": [
      "\n"
     ]
    }
   ],
   "source": [
    "import os\n",
    "import pandas as pd\n",
    "from dotenv import load_dotenv\n",
    "from pinecone import Pinecone\n",
    "from openai import OpenAI\n",
    "from tqdm import tqdm\n",
    "\n",
    "# 1. 환경변수 로드\n",
    "load_dotenv()\n",
    "pc = Pinecone(api_key=os.getenv(\"PINECONE_API_KEY\"))\n",
    "client = OpenAI(api_key=os.getenv(\"OPENAI_API_KEY\"))\n",
    "\n",
    "index_name = os.getenv(\"PINECONE_INDEX_NAME\")\n",
    "index = pc.Index(index_name)\n",
    "\n",
    "# 2. 데이터 불러오기 (CSV)\n",
    "df = pd.read_csv(\"data/winemag-data-130k-v2.csv\")\n",
    "\n",
    "# 필요한 컬럼만 추출\n",
    "# description: 리뷰 텍스트\n",
    "# title: 와인 이름\n",
    "# country: 생산 국가\n",
    "# variety: 품종\n",
    "# points: 점수\n",
    "df = df[[\"description\", \"title\", \"country\", \"variety\", \"points\"]].dropna()\n",
    "\n",
    "# 3. 벡터 업로드 함수\n",
    "def upload_batch(batch, batch_size=100):\n",
    "    vectors = []\n",
    "    for i, row in batch.iterrows():\n",
    "        # OpenAI 임베딩 생성\n",
    "        embedding = client.embeddings.create(\n",
    "            model=\"text-embedding-3-small\",  # dim=1536\n",
    "            input=row[\"description\"]\n",
    "        ).data[0].embedding\n",
    "        \n",
    "        vectors.append({\n",
    "            \"id\": str(i),  # row index를 id로 사용\n",
    "            \"values\": embedding,\n",
    "            \"metadata\": {\n",
    "                \"title\": row[\"title\"],\n",
    "                \"country\": row[\"country\"],\n",
    "                \"variety\": row[\"variety\"],\n",
    "                \"points\": int(row[\"points\"])\n",
    "            }\n",
    "        })\n",
    "    \n",
    "    # Pinecone에 업서트\n",
    "    index.upsert(vectors=vectors)\n",
    "\n",
    "# 4. 배치 단위 업로드 (tqdm으로 진행 상황 표시)\n",
    "batch_size = 100  # GPU/네트워크 상황 따라 조정 가능\n",
    "for start in tqdm(range(0, len(df), batch_size)):\n",
    "    end = start + batch_size\n",
    "    batch = df.iloc[start:end]\n",
    "    upload_batch(batch, batch_size=batch_size)\n",
    "\n",
    "print(\"✅ 모든 데이터 업로드 완료!\")\n"
   ]
  }
 ],
 "metadata": {
  "kernelspec": {
   "display_name": "prompting_env",
   "language": "python",
   "name": "python3"
  },
  "language_info": {
   "codemirror_mode": {
    "name": "ipython",
    "version": 3
   },
   "file_extension": ".py",
   "mimetype": "text/x-python",
   "name": "python",
   "nbconvert_exporter": "python",
   "pygments_lexer": "ipython3",
   "version": "3.12.11"
  }
 },
 "nbformat": 4,
 "nbformat_minor": 5
}
