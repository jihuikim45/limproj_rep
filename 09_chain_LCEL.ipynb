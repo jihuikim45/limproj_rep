{
 "cells": [
  {
   "cell_type": "markdown",
   "id": "db501b13",
   "metadata": {},
   "source": [
    "LCEL LangChainExpressionLanguage\n",
    "프롬프트 > LLM input > chain input > output > prompt\n",
    "\n",
    "Runnable 인터페이스 > 랭체인 구현하고 있다."
   ]
  },
  {
   "cell_type": "markdown",
   "id": "ce80f773",
   "metadata": {},
   "source": [
    "# SequentialChain"
   ]
  },
  {
   "cell_type": "code",
   "execution_count": 1,
   "id": "2850d438",
   "metadata": {},
   "outputs": [
    {
     "data": {
      "text/plain": [
       "ChatOpenAI(client=<openai.resources.chat.completions.completions.Completions object at 0x00000255930CECF0>, async_client=<openai.resources.chat.completions.completions.AsyncCompletions object at 0x00000255935CFB60>, root_client=<openai.OpenAI object at 0x00000255909EB9B0>, root_async_client=<openai.AsyncOpenAI object at 0x00000255930CEDB0>, model_name='gpt-4o-mini', model_kwargs={}, openai_api_key=SecretStr('**********'))"
      ]
     },
     "execution_count": 1,
     "metadata": {},
     "output_type": "execute_result"
    }
   ],
   "source": [
    "from langchain_openai import ChatOpenAI\n",
    "llm = ChatOpenAI(model='gpt-4o-mini')\n",
    "llm"
   ]
  },
  {
   "cell_type": "code",
   "execution_count": null,
   "id": "e2688d62",
   "metadata": {},
   "outputs": [
    {
     "name": "stderr",
     "output_type": "stream",
     "text": [
      "C:\\Users\\LENOVO\\AppData\\Local\\Temp\\ipykernel_13864\\1865443591.py:4: LangChainDeprecationWarning: The class `LLMChain` was deprecated in LangChain 0.1.17 and will be removed in 1.0. Use :meth:`~RunnableSequence, e.g., `prompt | llm`` instead.\n",
      "  chain = LLMChain(llm=llm, prompt=template)\n"
     ]
    },
    {
     "data": {
      "text/plain": [
       "LLMChain(verbose=False, prompt=PromptTemplate(input_variables=['city'], input_types={}, partial_variables={}, template='{city}의 랜드마크는 어디인가요?'), llm=ChatOpenAI(client=<openai.resources.chat.completions.completions.Completions object at 0x00000255930CECF0>, async_client=<openai.resources.chat.completions.completions.AsyncCompletions object at 0x00000255935CFB60>, root_client=<openai.OpenAI object at 0x00000255909EB9B0>, root_async_client=<openai.AsyncOpenAI object at 0x00000255930CEDB0>, model_name='gpt-4o-mini', model_kwargs={}, openai_api_key=SecretStr('**********')), output_parser=StrOutputParser(), llm_kwargs={})"
      ]
     },
     "execution_count": 2,
     "metadata": {},
     "output_type": "execute_result"
    }
   ],
   "source": [
    "from langchain_core.prompts import PromptTemplate\n",
    "from langchain.chains import LLMChain\n",
    "template = PromptTemplate.from_template(\"{city}의 랜드마크는 어디인가요?\")\n",
    "chain = LLMChain(llm=llm, prompt=template)\n",
    "chain"
   ]
  },
  {
   "cell_type": "code",
   "execution_count": 4,
   "id": "ab2ce9c5",
   "metadata": {},
   "outputs": [
    {
     "data": {
      "text/plain": [
       "{'city': '파리',\n",
       " 'text': \"파리에는 많은 유명한 랜드마크가 있습니다. 그 중에서도 가장 유명한 것들은 다음과 같습니다:\\n\\n1. **에펠탑 (Tour Eiffel)** - 파리의 상징이며, 1889년에 완공된 철제 구조물입니다.\\n2. **루브르 박물관 (Musée du Louvre)** - 세계에서 가장 큰 미술관 중 하나로, 모나리자와 같은 유명한 작품들이 전시되어 있습니다.\\n3. **노틀담 대성당 (Notre-Dame de Paris)** - 고딕 양식의 대성당으로, 파리의 중심부에 위치해 있습니다. 현재 복구 작업이 진행 중입니다.\\n4. **샹젤리제 거리 (Champs-Élysées)** - 파리에서 가장 유명한 거리 중 하나로, 상점과 카페들이 즐비해 있습니다.\\n5. **앙발리드 (Les Invalides)** - 군사 박물관과 나폴레옹의 무덤이 있는 복합 건물입니다.\\n6. **몽마르트르 언덕 (Montmartre)** - 예술가들이 많이 활동했던 지역으로, 사크레쾨르 대성당이 유명합니다.\\n7. **오르세이 미술관 (Musée d'Orsay)** - 인상파 및 후기 인상파 작품들이 많은 미술관입니다.\\n\\n이 외에도 많은 매력적인 장소들이 파리에 있습니다.\"}"
      ]
     },
     "execution_count": 4,
     "metadata": {},
     "output_type": "execute_result"
    }
   ],
   "source": [
    "chain.invoke({'city':'파리'})"
   ]
  },
  {
   "cell_type": "markdown",
   "id": "5e6c3989",
   "metadata": {},
   "source": [
    "# LCEL 파이프라인 구성"
   ]
  },
  {
   "cell_type": "code",
   "execution_count": 5,
   "id": "a2963d81",
   "metadata": {},
   "outputs": [
    {
     "data": {
      "text/plain": [
       "PromptTemplate(input_variables=['city'], input_types={}, partial_variables={}, template='{city}의 랜드마크는 어디인가요?')\n",
       "| ChatOpenAI(client=<openai.resources.chat.completions.completions.Completions object at 0x00000255930CECF0>, async_client=<openai.resources.chat.completions.completions.AsyncCompletions object at 0x00000255935CFB60>, root_client=<openai.OpenAI object at 0x00000255909EB9B0>, root_async_client=<openai.AsyncOpenAI object at 0x00000255930CEDB0>, model_name='gpt-4o-mini', model_kwargs={}, openai_api_key=SecretStr('**********'))"
      ]
     },
     "execution_count": 5,
     "metadata": {},
     "output_type": "execute_result"
    }
   ],
   "source": [
    "chain_lcel = template | llm \n",
    "chain_lcel"
   ]
  },
  {
   "cell_type": "code",
   "execution_count": 6,
   "id": "c1f74d9d",
   "metadata": {},
   "outputs": [
    {
     "data": {
      "text/plain": [
       "AIMessage(content=\"파리에는 유명한 랜드마크가 많이 있습니다. 그 중 일부는 다음과 같습니다:\\n\\n1. **에펠탑 (Tour Eiffel)** - 파리의 상징으로, 높이 300미터의 철강 구조물입니다.\\n2. **루브르 박물관 (Musée du Louvre)** - 세계에서 가장 큰 예술 박물관으로, 모나리자와 같은 유명한 작품들이 소장되어 있습니다.\\n3. **노틀담 대성당 (Notre-Dame de Paris)** - 고딕 건축의 대표적인 예로, 아름다운 스테인드 글라스 창문과 조각들로 유명합니다.\\n4. **샹젤리제 거리 (Champs-Élysées)** - 파리에서 가장 유명한 거리 중 하나로, 많은 상점과 카페가 있습니다.\\n5. **개선문 (Arc de Triomphe)** - 나폴레옹의 승리를 기리기 위해 건설된 기념물로, 파리의 중심부에 위치하고 있습니다.\\n6. **몽마르트 언덕 (Montmartre)** - 파리의 예술가들이 모여들었던 지역으로, 사크레쾨르 대성당이 위치해 있습니다.\\n7. **오르세이 미술관 (Musée d'Orsay)** - 인상파 및 후기 인상파 예술 작품이 소장되어 있는 미술관입니다.\\n\\n위의 랜드마크들은 파리를 방문할 때 꼭 들러볼 만한 곳들입니다!\", additional_kwargs={'refusal': None}, response_metadata={'token_usage': {'completion_tokens': 331, 'prompt_tokens': 19, 'total_tokens': 350, 'completion_tokens_details': {'accepted_prediction_tokens': 0, 'audio_tokens': 0, 'reasoning_tokens': 0, 'rejected_prediction_tokens': 0}, 'prompt_tokens_details': {'audio_tokens': 0, 'cached_tokens': 0}}, 'model_name': 'gpt-4o-mini-2024-07-18', 'system_fingerprint': 'fp_8bda4d3a2c', 'id': 'chatcmpl-CDMyo3gO2FbZb05ezXl0uUJ8jIWb1', 'service_tier': 'default', 'finish_reason': 'stop', 'logprobs': None}, id='run--7f7d5931-acaa-4366-a107-9feb8c9e1ee3-0', usage_metadata={'input_tokens': 19, 'output_tokens': 331, 'total_tokens': 350, 'input_token_details': {'audio': 0, 'cache_read': 0}, 'output_token_details': {'audio': 0, 'reasoning': 0}})"
      ]
     },
     "execution_count": 6,
     "metadata": {},
     "output_type": "execute_result"
    }
   ],
   "source": [
    "chain_lcel.invoke({'city':'파리'})"
   ]
  },
  {
   "cell_type": "markdown",
   "id": "04de2080",
   "metadata": {},
   "source": [
    "# Sequential chain 의 구성"
   ]
  },
  {
   "cell_type": "code",
   "execution_count": null,
   "id": "d6ac691d",
   "metadata": {},
   "outputs": [],
   "source": [
    "from langchain.chains import SequentialChain\n",
    "\n",
    "prompt1 = PromptTemplate.from_template(\n",
    "    \"{city}의 랜드마크 1개만 알려주세요. 설명은 필요없고 이름만 1개 알려주세요.\")\n",
    "prompt2 = PromptTemplate.from_template(\n",
    "    \"{landmark}에 {transport}로 가는 방법이 무엇인가요?\")\n",
    "\n",
    "# chain1: city → landmark\n",
    "chain1 = LLMChain(llm=llm, prompt=prompt1, output_key=\"landmark\", verbose=True)\n",
    "\n",
    "# chain2: landmark + transport → result\n",
    "chain2 = LLMChain(llm=llm, prompt=prompt2, output_key=\"route\", verbose=True)\n",
    "\n",
    "# SequentialChain 연결\n",
    "seq_chain = SequentialChain(chains=[chain1, chain2], input_variables=[\"city\", \"transport\"], output_variables=[\"landmark\", \"route\"],verbose=True)  # 마지막 결과에서 뽑을 값\n",
    "\n"
   ]
  },
  {
   "cell_type": "code",
   "execution_count": 9,
   "id": "b74514d7",
   "metadata": {},
   "outputs": [
    {
     "name": "stdout",
     "output_type": "stream",
     "text": [
      "\n",
      "\n",
      "\u001b[1m> Entering new SequentialChain chain...\u001b[0m\n",
      "\n",
      "\n",
      "\u001b[1m> Entering new LLMChain chain...\u001b[0m\n",
      "Prompt after formatting:\n",
      "\u001b[32;1m\u001b[1;3mseoul의 랜드마크 1개만 알려주세요. 설명은 필요없고 이름만 1개 알려주세요.\u001b[0m\n",
      "\n",
      "\u001b[1m> Finished chain.\u001b[0m\n",
      "\n",
      "\n",
      "\u001b[1m> Entering new LLMChain chain...\u001b[0m\n",
      "Prompt after formatting:\n",
      "\u001b[32;1m\u001b[1;3mN 서울타워에 지하철로 가는 방법이 무엇인가요?\u001b[0m\n",
      "\n",
      "\u001b[1m> Finished chain.\u001b[0m\n",
      "\n",
      "\u001b[1m> Finished chain.\u001b[0m\n"
     ]
    },
    {
     "data": {
      "text/plain": [
       "{'city': 'seoul',\n",
       " 'transport': '지하철',\n",
       " 'landmark': 'N 서울타워',\n",
       " 'route': 'N 서울타워에 가는 방법은 여러 가지가 있지만, 일반적으로는 다음과 같은 방법으로 지하철을 이용할 수 있습니다.\\n\\n1. **지하철 타기**: 먼저, 가장 가까운 지하철역인 \"명동역\"이나 \"훼미리마트\"를 이용하시면 좋습니다.\\n   - **명동역**: 4호선에 위치합니다. 6번 출구로 나와서 서울타워까지 도보로 이동할 수 있습니다.\\n   - **훼미리마트**: 남산 출발을 원하실 경우, 이도 가능하며, N 서울타워로 가는 길을 볼 수 있습니다.\\n\\n2. **이동 경로**:\\n   - 명동역에 도착한 후, 6번 출구로 나와 명동 거리를 따라 올라가면 N 서울타워까지 갈 수 있습니다.\\n   - 길을 따라 올라가면 약 15분 정도 소요됩니다.\\n\\n3. **셔틀버스 이용**: 서울타워까지 가는 셔틀버스도 운영되고 있으니, 이 역시 선택할 수 있습니다. 명동에서 셔틀버스를 이용하면 편리하게 이동할 수 있습니다.\\n\\nN 서울타워는 남산 위에 위치해 있으므로 도보로 오르기 힘들거나 시간이 부족한 경우에는 케이블카를 이용할 수도 있습니다. 방문 전에 운영시간과 거리 정보 등을 확인하면 더욱 원활한 여행이 될 것입니다.'}"
      ]
     },
     "execution_count": 9,
     "metadata": {},
     "output_type": "execute_result"
    }
   ],
   "source": [
    "result = seq_chain.invoke({'city':'seoul', 'transport':'지하철'})\n",
    "result"
   ]
  }
 ],
 "metadata": {
  "kernelspec": {
   "display_name": "prompting_env",
   "language": "python",
   "name": "python3"
  },
  "language_info": {
   "codemirror_mode": {
    "name": "ipython",
    "version": 3
   },
   "file_extension": ".py",
   "mimetype": "text/x-python",
   "name": "python",
   "nbconvert_exporter": "python",
   "pygments_lexer": "ipython3",
   "version": "3.12.11"
  }
 },
 "nbformat": 4,
 "nbformat_minor": 5
}
