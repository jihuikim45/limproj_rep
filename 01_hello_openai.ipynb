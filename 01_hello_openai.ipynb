{
  "cells": [
    {
      "cell_type": "code",
      "execution_count": 1,
      "id": "ca20f75a",
      "metadata": {},
      "outputs": [
        {
          "name": "stdout",
          "output_type": "stream",
          "text": [
            "API Key configured: True\n"
          ]
        }
      ],
      "source": [
        "from dotenv import load_dotenv\n",
        "import os\n",
        "\n",
        "# .env 파일에서 환경 변수를 불러옵니다.\n",
        "load_dotenv()\n",
        "\n",
        "# 환경 변수 읽기\n",
        "openai_api_key = os.getenv(\"OPENAI_API_KEY\")\n",
        "\n",
        "\n",
        "# OpenAI 라이브러리가 환경 변수에서 키를 읽을 수 있도록 설정\n",
        "if openai_api_key:\n",
        "    os.environ[\"OPENAI_API_KEY\"] = openai_api_key\n",
        "\n",
        "print(\"API Key configured:\", \"OPENAI_API_KEY\" in os.environ)"
      ]
    },
    {
      "cell_type": "code",
      "execution_count": 1,
      "id": "e428d918",
      "metadata": {},
      "outputs": [
        {
          "data": {
            "text/plain": [
              "'1.100.2'"
            ]
          },
          "execution_count": 1,
          "metadata": {},
          "output_type": "execute_result"
        }
      ],
      "source": [
        "import openai\n",
        "openai.__version__"
      ]
    },
    {
      "cell_type": "code",
      "execution_count": 2,
      "id": "fe810dab",
      "metadata": {},
      "outputs": [],
      "source": [
        "from openai import OpenAI\n",
        "client = OpenAI()\n",
        "\n",
        "response = client.responses.create(\n",
        "  model=\"gpt-4o-mini\",\n",
        "  input=[\n",
        "    {\n",
        "      \"role\": \"system\",\n",
        "      \"content\": [\n",
        "        {\n",
        "          \"type\": \"input_text\",\n",
        "          \"text\": \"바로 답하지 말고, 생각하는 과정을 하나씩 소리 내어 말해주세요.\"\n",
        "        }\n",
        "      ]\n",
        "    },\n",
        "    {\n",
        "      \"role\": \"user\",\n",
        "      \"content\": [\n",
        "        {\n",
        "          \"type\": \"input_text\",\n",
        "          \"text\": \"사과가 10개인데 3개 먹고 5개 더 사면 몇 개예요?\"\n",
        "        }\n",
        "      ]\n",
        "    },\n",
        "    {\n",
        "      \"id\": \"msg_68a7c7ad9c308192a55d9813caa9384e0abab5d22de66ad7\",\n",
        "      \"role\": \"assistant\",\n",
        "      \"content\": [\n",
        "        {\n",
        "          \"type\": \"output_text\",\n",
        "          \"text\": \"좋아요, 문제를 차근차근 풀어보겠습니다.\\n\\n1. 처음에 사과가 10개 있어요.\\n2. 여기서 3개를 먹습니다. 10개 - 3개 = 7개가 남아요.\\n3. 이제 5개를 더 사면, 7개 + 5개 = 12개가 됩니다.\\n\\n따라서, 최종적으로 사과는 12개입니다.\"\n",
        "        }\n",
        "      ]\n",
        "    }\n",
        "  ],\n",
        "  text={\n",
        "    \"format\": {\n",
        "      \"type\": \"text\"\n",
        "    }\n",
        "  },\n",
        "  reasoning={},\n",
        "  tools=[],\n",
        "  temperature=1,\n",
        "  max_output_tokens=2048,\n",
        "  top_p=1,\n",
        "  store=True\n",
        ")"
      ]
    },
    {
      "cell_type": "code",
      "execution_count": 3,
      "id": "dc36aed9",
      "metadata": {},
      "outputs": [
        {
          "data": {
            "text/plain": [
              "Response(id='resp_68a7c7c3315c81928c5b63e11fc670770abab5d22de66ad7', created_at=1755826115.0, error=None, incomplete_details=None, instructions=None, metadata={}, model='gpt-4o-mini-2024-07-18', object='response', output=[ResponseOutputMessage(id='msg_68a7c7c4225481929b25872dcec33e190abab5d22de66ad7', content=[ResponseOutputText(annotations=[], text='결론적으로, 10개의 사과에서 3개를 먹고 5개를 더 사면 남는 사과는 12개입니다.', type='output_text', logprobs=[])], role='assistant', status='completed', type='message')], parallel_tool_calls=True, temperature=1.0, tool_choice='auto', tools=[], top_p=1.0, background=False, max_output_tokens=2048, max_tool_calls=None, previous_response_id=None, prompt=None, prompt_cache_key=None, reasoning=Reasoning(effort=None, generate_summary=None, summary=None), safety_identifier=None, service_tier='default', status='completed', text=ResponseTextConfig(format=ResponseFormatText(type='text'), verbosity='medium'), top_logprobs=0, truncation='disabled', usage=ResponseUsage(input_tokens=151, input_tokens_details=InputTokensDetails(cached_tokens=0), output_tokens=34, output_tokens_details=OutputTokensDetails(reasoning_tokens=0), total_tokens=185), user=None, store=True)"
            ]
          },
          "execution_count": 3,
          "metadata": {},
          "output_type": "execute_result"
        }
      ],
      "source": [
        "response"
      ]
    },
    {
      "cell_type": "code",
      "execution_count": 4,
      "id": "625cd00a",
      "metadata": {},
      "outputs": [
        {
          "data": {
            "text/plain": [
              "[ResponseOutputText(annotations=[], text='결론적으로, 10개의 사과에서 3개를 먹고 5개를 더 사면 남는 사과는 12개입니다.', type='output_text', logprobs=[])]"
            ]
          },
          "execution_count": 4,
          "metadata": {},
          "output_type": "execute_result"
        }
      ],
      "source": [
        "response.output[0].content"
      ]
    },
    {
      "cell_type": "code",
      "execution_count": 5,
      "id": "c77daaab",
      "metadata": {},
      "outputs": [
        {
          "data": {
            "text/plain": [
              "'결론적으로, 10개의 사과에서 3개를 먹고 5개를 더 사면 남는 사과는 12개입니다.'"
            ]
          },
          "execution_count": 5,
          "metadata": {},
          "output_type": "execute_result"
        }
      ],
      "source": [
        "response.output[0].content[0].text"
      ]
    },
    {
      "cell_type": "markdown",
      "id": "a84969bc",
      "metadata": {},
      "source": [
        "# chat completion API"
      ]
    },
    {
      "cell_type": "code",
      "execution_count": 9,
      "id": "86f876b7",
      "metadata": {},
      "outputs": [],
      "source": [
        "from openai import OpenAI\n",
        "client = OpenAI()\n",
        "\n",
        "response = client.chat.completions.create(\n",
        "  model=\"gpt-4o-mini\",\n",
        "  messages=[\n",
        "    {\n",
        "      \"role\": \"system\",\n",
        "      \"content\": [\n",
        "        {\n",
        "          \"type\": \"text\",\n",
        "          \"text\": \"바로 답하지 말고, 생각하는 과정을 하나씩 소리 내어 말해주세요.\"\n",
        "        }\n",
        "      ]\n",
        "    },\n",
        "    {\n",
        "      \"role\": \"user\",\n",
        "      \"content\": [\n",
        "        {\n",
        "          \"type\": \"text\",\n",
        "          \"text\": \"사과가 10개인데 3개 먹고 5개 더 사면 몇 개예요?\"\n",
        "        }\n",
        "      ]\n",
        "    },\n",
        "    {\n",
        "      \"role\": \"assistant\",\n",
        "      \"content\": [\n",
        "        {\n",
        "          \"type\": \"text\",\n",
        "          \"text\": \"좋아요, 문제를 차근차근 풀어보겠습니다.\\n\\n1. 처음에 사과가 10개 있어요.\\n2. 여기서 3개를 먹습니다. 10개 - 3개 = 7개가 남아요.\\n3. 이제 5개를 더 사면, 7개 + 5개 = 12개가 됩니다.\\n\\n따라서, 최종적으로 사과는 12개입니다.\"\n",
        "        }\n",
        "      ]\n",
        "    }\n",
        "  ],\n",
        "  response_format={\n",
        "    \"type\": \"text\"\n",
        "  },\n",
        "  temperature=1,\n",
        "  max_completion_tokens=2048,\n",
        "  top_p=1,\n",
        "  frequency_penalty=0,\n",
        "  presence_penalty=0\n",
        ")"
      ]
    },
    {
      "cell_type": "code",
      "execution_count": 12,
      "id": "e0a7f31e",
      "metadata": {},
      "outputs": [
        {
          "data": {
            "text/plain": [
              "'지금까지의 과정을 간단히 정리해볼게요. \\n\\n1. 시작할 때 사과는 10개입니다.\\n2. 3개를 먹어서 남은 사과는 7개입니다.\\n3. 5개를 더 사서 총합은 12개가 됩니다.\\n\\n그래서 답은 12개입니다.'"
            ]
          },
          "execution_count": 12,
          "metadata": {},
          "output_type": "execute_result"
        }
      ],
      "source": [
        "response.choices[0].message.content"
      ]
    }
  ],
  "metadata": {
    "kernelspec": {
      "display_name": "prompting_env",
      "language": "python",
      "name": "python3"
    },
    "language_info": {
      "codemirror_mode": {
        "name": "ipython",
        "version": 3
      },
      "file_extension": ".py",
      "mimetype": "text/x-python",
      "name": "python",
      "nbconvert_exporter": "python",
      "pygments_lexer": "ipython3",
      "version": "3.12.11"
    }
  },
  "nbformat": 4,
  "nbformat_minor": 5
}
